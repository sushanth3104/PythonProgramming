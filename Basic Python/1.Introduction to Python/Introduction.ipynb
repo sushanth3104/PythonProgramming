{
 "cells": [
  {
   "cell_type": "markdown",
   "id": "bc798d1d",
   "metadata": {},
   "source": [
    "![PythonProgramming](PythonProgramming.png)"
   ]
  },
  {
   "cell_type": "markdown",
   "id": "7f8d4ccd",
   "metadata": {},
   "source": [
    "## What is Python ?\n",
    "###  Breif History of Python\n",
    "- Created in 1990 by Guido Van Rossum.\n",
    "- Python3 is released in 2008.\n",
    "- Specifically designed as an easy to use language.\n",
    "- High focus on readability of code."
   ]
  },
  {
   "cell_type": "markdown",
   "id": "47bac080",
   "metadata": {},
   "source": [
    "### Why to choose Python ?\n",
    "- Designed for clear,logical code that is easy to read and learn.\n",
    "- Lots of existing libraries and frameworks written in python allowing users to apply Python to a wide variety of tasks.\n",
    "- __Focuses on optimizing developer time,rather than a computer's processing time__.\n",
    "- Great documentation is available in official website python.org. "
   ]
  },
  {
   "cell_type": "markdown",
   "id": "5b5f5ff6",
   "metadata": {},
   "source": [
    "### What we can do with Python ?\n",
    "\n",
    "- __Machine Learning__\n",
    "- __Signal Processing__\n",
    "- __Deep Learning__\n",
    "- __Data Science__\n",
    "- __Visualization__\n",
    "- __Create and run predictive algorithms__\n",
    "- Automate simple tasks\n",
    "- Searching for files and editing them\n",
    "- Scraping information from a website\n",
    "- Reading and editing excel files\n",
    "- Work with PDFs\n",
    "- Automate emails and text messages\n",
    "- Fill out forms"
   ]
  },
  {
   "cell_type": "markdown",
   "id": "b5fe9508",
   "metadata": {},
   "source": [
    "### Hello World!! \n"
   ]
  },
  {
   "cell_type": "code",
   "execution_count": 1,
   "id": "fbe55c44",
   "metadata": {},
   "outputs": [
    {
     "name": "stdout",
     "output_type": "stream",
     "text": [
      "Hello World!!\n"
     ]
    }
   ],
   "source": [
    "print(\"Hello World!!\") ## both single quotes and double quotes works\n"
   ]
  },
  {
   "cell_type": "markdown",
   "id": "471e3c44",
   "metadata": {},
   "source": [
    "### Python Standards and Implementations ###\n",
    "- __Implementation__\n",
    "  - CPython : Most popular\n",
    "  - Jython : Compatible with Java\n",
    "  - IronPython : Compatible with .NET\n",
    "  - PyPy : Considered Faster (Because it uses just-in-time compilation)"
   ]
  },
  {
   "cell_type": "markdown",
   "id": "7c1403a0",
   "metadata": {},
   "source": [
    "### Python Execution Processes : ###\n",
    "- __CPython__ :\n",
    " - We write python script using _.py_ extension.\n",
    " - _.py_ file is converted into _Byte code_ using a compiler and generates _.pyc_ file.\n",
    " - The generated intermediate byte code is then run time interpreted by an _Interpreter_.\n",
    "\n",
    " \n",
    "![](IMG_1E82D618ED8B-1.jpeg)"
   ]
  },
  {
   "cell_type": "markdown",
   "id": "ec33a51b",
   "metadata": {},
   "source": [
    "#### Why such intermediate complex steps ? ####\n",
    "\n",
    "- Usually in languages like in c/c++ the written code is compiled using a compiler and it generates  _Binary code(Machine understandable)_.\n",
    "  - The problem with such implementation is it is machine dependent. Machine specific code is generated.\n",
    "- The reason for such a complex step in python is to achieve __portability__ i.e, __Platform independent code__.\n",
    "\n"
   ]
  },
  {
   "cell_type": "markdown",
   "id": "b7004f4b",
   "metadata": {},
   "source": [
    "![](IMG_A121AE597C55-1.jpeg)"
   ]
  },
  {
   "cell_type": "markdown",
   "id": "4a4723f5",
   "metadata": {},
   "source": [
    "- __Python Virtual Machine(P.V.M)__ is platform specific, to run the byte code platform specific PVM must be installed in the computer."
   ]
  },
  {
   "cell_type": "markdown",
   "id": "4377e338",
   "metadata": {},
   "source": [
    "- To see the __Byte code__ the command is : _python -m byte_code_file_name main.py_"
   ]
  },
  {
   "cell_type": "markdown",
   "id": "0dff68e2",
   "metadata": {},
   "source": [
    "### Comments and Doc Strings ###\n",
    "- __Comments__ : used to provide detailes, functionalities of functions,classes etc.\n",
    "- __Doc Strings__ : They are used to provide documentation. It uses triple quotes.\n",
    "\n",
    "- Ususally comments are used to provide any useful information, Doc- strings are used for documentation.\n",
    "- _Comments are not processed_ by the interpreter but the _Doc strings are processed_ by the interpreter."
   ]
  },
  {
   "cell_type": "code",
   "execution_count": 6,
   "id": "7cec9a83",
   "metadata": {},
   "outputs": [
    {
     "data": {
      "text/plain": [
       "'\\n\\nThis is a doc string\\n\\n'"
      ]
     },
     "execution_count": 6,
     "metadata": {},
     "output_type": "execute_result"
    }
   ],
   "source": [
    "# This is a single line comment #\n",
    "\n",
    "\n",
    "\n",
    "\"\"\"\n",
    "\n",
    "This is a doc string\n",
    "\n",
    "\"\"\"\n",
    "      "
   ]
  }
 ],
 "metadata": {
  "kernelspec": {
   "display_name": "Python 3.10.6 ('PythonProg')",
   "language": "python",
   "name": "python3"
  },
  "language_info": {
   "codemirror_mode": {
    "name": "ipython",
    "version": 3
   },
   "file_extension": ".py",
   "mimetype": "text/x-python",
   "name": "python",
   "nbconvert_exporter": "python",
   "pygments_lexer": "ipython3",
   "version": "3.10.6"
  },
  "vscode": {
   "interpreter": {
    "hash": "29121379c54006a402e7a0be7cae212d0370106bfe7b343480c3f9a7baac140c"
   }
  }
 },
 "nbformat": 4,
 "nbformat_minor": 5
}
