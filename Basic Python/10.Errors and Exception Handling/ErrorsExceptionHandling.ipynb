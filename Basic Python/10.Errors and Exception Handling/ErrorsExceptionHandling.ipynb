{
 "cells": [
  {
   "cell_type": "markdown",
   "metadata": {},
   "source": [
    "### Errors and Exception Handling ###\n",
    "- We can use error handling to attempt to plan for possible errors.\n",
    "- For example, a user may try to write to a file that was only opened in mode = 'r' .\n",
    "- Currently if there is any type of error in our code, the entire script will stop.\n",
    "- We can use Error HAndling to let the script continue with other code, even is there is an error.\n",
    "\n"
   ]
  },
  {
   "cell_type": "markdown",
   "metadata": {},
   "source": [
    "- We use three keywords for this:\n",
    "  - __try__ : This is the block of code to be attempted(may lead to an error).\n",
    "  - __except__: Block of code will execute in case there is an error in __try__ block.\n",
    "  - __finally__: A final block of code to be executed, regardless of an error."
   ]
  },
  {
   "cell_type": "code",
   "execution_count": 1,
   "metadata": {},
   "outputs": [],
   "source": [
    "def add(n1,n2):\n",
    "    print(n1+n2)"
   ]
  },
  {
   "cell_type": "code",
   "execution_count": 2,
   "metadata": {},
   "outputs": [
    {
     "name": "stdout",
     "output_type": "stream",
     "text": [
      "30\n"
     ]
    }
   ],
   "source": [
    "add(10,20)"
   ]
  },
  {
   "cell_type": "code",
   "execution_count": 5,
   "metadata": {},
   "outputs": [
    {
     "ename": "TypeError",
     "evalue": "unsupported operand type(s) for +: 'int' and 'str'",
     "output_type": "error",
     "traceback": [
      "\u001b[0;31m---------------------------------------------------------------------------\u001b[0m",
      "\u001b[0;31mTypeError\u001b[0m                                 Traceback (most recent call last)",
      "Cell \u001b[0;32mIn [5], line 4\u001b[0m\n\u001b[1;32m      1\u001b[0m n1 \u001b[39m=\u001b[39m \u001b[39m10\u001b[39m\n\u001b[1;32m      2\u001b[0m n2 \u001b[39m=\u001b[39m \u001b[39minput\u001b[39m(\u001b[39m\"\u001b[39m\u001b[39mEnter the number : \u001b[39m\u001b[39m\"\u001b[39m)    \u001b[39m## reads as a string\u001b[39;00m\n\u001b[0;32m----> 4\u001b[0m add(n1,n2) \u001b[39m# results an error\u001b[39;00m\n\u001b[1;32m      5\u001b[0m \u001b[39mprint\u001b[39m(\u001b[39m\"\u001b[39m\u001b[39mSomething happened\u001b[39m\u001b[39m\"\u001b[39m)\n",
      "Cell \u001b[0;32mIn [1], line 2\u001b[0m, in \u001b[0;36madd\u001b[0;34m(n1, n2)\u001b[0m\n\u001b[1;32m      1\u001b[0m \u001b[39mdef\u001b[39;00m \u001b[39madd\u001b[39m(n1,n2):\n\u001b[0;32m----> 2\u001b[0m     \u001b[39mprint\u001b[39m(n1\u001b[39m+\u001b[39;49mn2)\n",
      "\u001b[0;31mTypeError\u001b[0m: unsupported operand type(s) for +: 'int' and 'str'"
     ]
    }
   ],
   "source": [
    "n1 = 10\n",
    "n2 = input(\"Enter the number : \")    ## reads as a string\n",
    "\n",
    "add(n1,n2) # results an error\n",
    "print(\"Something happened\")  # This will not be executed"
   ]
  },
  {
   "cell_type": "code",
   "execution_count": 6,
   "metadata": {},
   "outputs": [],
   "source": [
    "# The idea of try .. is to continue execution even if an error occurs\n",
    "\n",
    "try :\n",
    "    # want to attept this code\n",
    "    # may have an error\n",
    "    result = 10 + 10\n",
    "\n",
    "except :\n",
    "    print(\"Hey it looks like you are not adding correcly\")\n",
    "    # Detailed message to the user"
   ]
  },
  {
   "cell_type": "code",
   "execution_count": 7,
   "metadata": {},
   "outputs": [
    {
     "data": {
      "text/plain": [
       "20"
      ]
     },
     "execution_count": 7,
     "metadata": {},
     "output_type": "execute_result"
    }
   ],
   "source": [
    "result"
   ]
  },
  {
   "cell_type": "code",
   "execution_count": 9,
   "metadata": {},
   "outputs": [
    {
     "name": "stdout",
     "output_type": "stream",
     "text": [
      "Hey it looks like you are not adding correcly\n"
     ]
    }
   ],
   "source": [
    "try :\n",
    "    # want to attept this code\n",
    "    # may have an error\n",
    "    result = 10 + '10'  # Results error\n",
    "\n",
    "except :\n",
    "    print(\"Hey it looks like you are not adding correcly\")\n",
    "    # Detailed message to the user\n",
    "else:\n",
    "    print(\"Add went well\")"
   ]
  },
  {
   "cell_type": "markdown",
   "metadata": {},
   "source": [
    "### Finally ###"
   ]
  },
  {
   "cell_type": "code",
   "execution_count": 13,
   "metadata": {},
   "outputs": [
    {
     "name": "stdout",
     "output_type": "stream",
     "text": [
      "I alwayas run\n"
     ]
    }
   ],
   "source": [
    "try :\n",
    "    f = open('testfile','w')   ## Chane w to r to see the effect\n",
    "    f.write('Write a test line')\n",
    "except TypeError:\n",
    "    print(\"Type Error!!\")\n",
    "except OSError:\n",
    "    print(\"Hey you have an OS Error\")\n",
    "finally:\n",
    "\n",
    "    #Executes no matter what\n",
    "    print(\"I alwayas run\")"
   ]
  },
  {
   "cell_type": "code",
   "execution_count": 18,
   "metadata": {},
   "outputs": [],
   "source": [
    "def ask_for_int():\n",
    "\n",
    "    while True:\n",
    "        try :\n",
    "            result = int(input(\"Please provide a numebr\"))\n",
    "        except:\n",
    "            print(\"That is not an integer\")\n",
    "            continue\n",
    "        else:\n",
    "            print(\"Thank you\")\n",
    "            break\n",
    "        finally:\n",
    "            print(\"End of try/except/finally\")\n"
   ]
  },
  {
   "cell_type": "code",
   "execution_count": 19,
   "metadata": {},
   "outputs": [
    {
     "name": "stdout",
     "output_type": "stream",
     "text": [
      "That is not an integer\n",
      "End of try/except/finally\n",
      "That is not an integer\n",
      "End of try/except/finally\n",
      "That is not an integer\n",
      "End of try/except/finally\n",
      "Thank you\n",
      "End of try/except/finally\n"
     ]
    }
   ],
   "source": [
    "ask_for_int()"
   ]
  }
 ],
 "metadata": {
  "kernelspec": {
   "display_name": "Python 3.9.6 64-bit",
   "language": "python",
   "name": "python3"
  },
  "language_info": {
   "codemirror_mode": {
    "name": "ipython",
    "version": 3
   },
   "file_extension": ".py",
   "mimetype": "text/x-python",
   "name": "python",
   "nbconvert_exporter": "python",
   "pygments_lexer": "ipython3",
   "version": "3.9.6"
  },
  "orig_nbformat": 4,
  "vscode": {
   "interpreter": {
    "hash": "31f2aee4e71d21fbe5cf8b01ff0e069b9275f58929596ceb00d14d90e3e16cd6"
   }
  }
 },
 "nbformat": 4,
 "nbformat_minor": 2
}
