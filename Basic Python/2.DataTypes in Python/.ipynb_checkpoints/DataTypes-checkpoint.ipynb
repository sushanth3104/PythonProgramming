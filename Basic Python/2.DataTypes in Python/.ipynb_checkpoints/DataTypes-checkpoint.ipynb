{
 "cells": [
  {
   "cell_type": "markdown",
   "id": "87862023",
   "metadata": {},
   "source": [
    "## Basic Data Types\n",
    "\n",
    "### Data Types : \n",
    "- Integers \n",
    "- Floating Point\n",
    "- Strings\n",
    "\n",
    "### Data structures :\n",
    "- Lists\n",
    "- Dictionaries\n",
    "- Tuples\n",
    "- Sets\n"
   ]
  },
  {
   "cell_type": "markdown",
   "id": "d6ca7f70",
   "metadata": {},
   "source": [
    "| Name | Type | Description |\n",
    "| :-: |:-: | :-: |\n",
    "|__Integers__ | int | Integer numbers such as __-3__ __300__ __20__|\n",
    "|__Floating Point__ | float | Numbers with decimal point : __2.3 -4.5 100.0__|\n",
    "|__Strings__ | str | Ordered sequence of characters: \"__Hello__\",\"__Sammy__\",\"__200__\"|\n",
    "|__Lists__|list|Ordered sequence of objects : __[10,\"Hello\",20.034]__|\n",
    "|__Dictionaries__|dict|Unordered key : Value pairs : __{\"mykeys\":\"value\",\"name\":\"Frankie\"}__|\n",
    "|__Tuples__|tup|Ordered immutable sequence of objects : __(\"a\",\"10\")__|\n",
    "|__Sets__|set|Unordered collection of unique objects : __(\"a\",\"b\")__|\n",
    "|__Booleans__|bool|Logical value indicating __True__ or __False__|"
   ]
  },
  {
   "cell_type": "markdown",
   "id": "71dd4818",
   "metadata": {},
   "source": [
    "## Numbers in Python\n",
    "- Two main number types : \n",
    "  - Integers numbers\n",
    "  - Floating point numbers"
   ]
  },
  {
   "cell_type": "code",
   "execution_count": 1,
   "id": "b9e76f31",
   "metadata": {},
   "outputs": [
    {
     "data": {
      "text/plain": [
       "3"
      ]
     },
     "execution_count": 1,
     "metadata": {},
     "output_type": "execute_result"
    }
   ],
   "source": [
    "2+1"
   ]
  },
  {
   "cell_type": "code",
   "execution_count": 2,
   "id": "85ddc3c1",
   "metadata": {},
   "outputs": [
    {
     "data": {
      "text/plain": [
       "1"
      ]
     },
     "execution_count": 2,
     "metadata": {},
     "output_type": "execute_result"
    }
   ],
   "source": [
    "2-1"
   ]
  },
  {
   "cell_type": "code",
   "execution_count": 3,
   "id": "2d54c1fd",
   "metadata": {},
   "outputs": [
    {
     "data": {
      "text/plain": [
       "6"
      ]
     },
     "execution_count": 3,
     "metadata": {},
     "output_type": "execute_result"
    }
   ],
   "source": [
    "2*3"
   ]
  },
  {
   "cell_type": "code",
   "execution_count": 4,
   "id": "1b0a873d",
   "metadata": {},
   "outputs": [
    {
     "data": {
      "text/plain": [
       "1.5"
      ]
     },
     "execution_count": 4,
     "metadata": {},
     "output_type": "execute_result"
    }
   ],
   "source": [
    "3/2"
   ]
  },
  {
   "cell_type": "markdown",
   "id": "02460826",
   "metadata": {},
   "source": [
    "__Modulo or \"Mod\" Operator \"%\"__ : It returns the remainder after division"
   ]
  },
  {
   "cell_type": "code",
   "execution_count": 6,
   "id": "68894ab6",
   "metadata": {},
   "outputs": [
    {
     "data": {
      "text/plain": [
       "3"
      ]
     },
     "execution_count": 6,
     "metadata": {},
     "output_type": "execute_result"
    }
   ],
   "source": [
    "7 % 4"
   ]
  },
  {
   "cell_type": "code",
   "execution_count": 7,
   "id": "92e99f0d",
   "metadata": {},
   "outputs": [
    {
     "data": {
      "text/plain": [
       "0"
      ]
     },
     "execution_count": 7,
     "metadata": {},
     "output_type": "execute_result"
    }
   ],
   "source": [
    "50 % 5"
   ]
  },
  {
   "cell_type": "markdown",
   "id": "52b12b17",
   "metadata": {},
   "source": [
    "Modulo operator can be used directly to check wether a number is either __Even__ or __Odd__ ."
   ]
  },
  {
   "cell_type": "code",
   "execution_count": 9,
   "id": "526c99f7",
   "metadata": {},
   "outputs": [
    {
     "name": "stdout",
     "output_type": "stream",
     "text": [
      "1\n",
      "0\n"
     ]
    }
   ],
   "source": [
    "## If remainder after division with 2 is zero then number is Even, if not it is Odd\n",
    "\n",
    "print(23 % 2) ## Results 1 - Odd number\n",
    "\n",
    "print(26 % 2) ## Results 0 - Even number"
   ]
  },
  {
   "cell_type": "markdown",
   "id": "55c36246",
   "metadata": {},
   "source": [
    "__Power__ :\n",
    "\n",
    "x raised to y : __x ** y__"
   ]
  },
  {
   "cell_type": "code",
   "execution_count": 10,
   "id": "c6bda89e",
   "metadata": {},
   "outputs": [
    {
     "data": {
      "text/plain": [
       "16"
      ]
     },
     "execution_count": 10,
     "metadata": {},
     "output_type": "execute_result"
    }
   ],
   "source": [
    "2 ** 4"
   ]
  },
  {
   "cell_type": "code",
   "execution_count": 12,
   "id": "bf8af0d0",
   "metadata": {},
   "outputs": [
    {
     "data": {
      "text/plain": [
       "36"
      ]
     },
     "execution_count": 12,
     "metadata": {},
     "output_type": "execute_result"
    }
   ],
   "source": [
    "# Compound operations\n",
    "\n",
    "2 + (10 * 3) + (2 ** 2)"
   ]
  },
  {
   "cell_type": "markdown",
   "id": "2949d67e",
   "metadata": {},
   "source": [
    "## Variable Assignment\n",
    "- Usual rules for naming applies\n",
    "- __Lowercase__ are preferred\n",
    "- Avoid using keywords\n",
    "- All caps is preferred for __Global Variables__\n"
   ]
  },
  {
   "cell_type": "markdown",
   "id": "1143f262",
   "metadata": {},
   "source": [
    "### Advantages of python \n",
    "- Python is Dynamically typed i.e, we can reassign variables to different data types.\n",
    "- This makes python very flexible in assigning data types,this is different than other languages that are \"Statically-Types\"."
   ]
  },
  {
   "cell_type": "code",
   "execution_count": 1,
   "id": "296bb2ab",
   "metadata": {},
   "outputs": [
    {
     "name": "stdout",
     "output_type": "stream",
     "text": [
      "2\n",
      "['Sam', 'Frank']\n"
     ]
    }
   ],
   "source": [
    "# Example to show dynamic typing\n",
    "\n",
    "# Integer\n",
    "\n",
    "my_dogs = 2 \n",
    "print(my_dogs)\n",
    "\n",
    "# List\n",
    "    \n",
    "my_dogs = [\"Sam\",\"Frank\"] \n",
    "print(my_dogs)"
   ]
  },
  {
   "cell_type": "markdown",
   "id": "c25e9097",
   "metadata": {},
   "source": [
    "### Pros of Dynamic Typing\n",
    "- Very easy to work with\n",
    "- Faster development time\n",
    "\n",
    "### Cons of Dynamic Typing\n",
    "- May result in bugs for unexpected data types!\n",
    "- We must be aware of __type()__"
   ]
  },
  {
   "cell_type": "code",
   "execution_count": 8,
   "id": "93b47fdd",
   "metadata": {},
   "outputs": [],
   "source": [
    "a = 5"
   ]
  },
  {
   "cell_type": "code",
   "execution_count": 9,
   "id": "f260f1f5",
   "metadata": {},
   "outputs": [
    {
     "data": {
      "text/plain": [
       "5"
      ]
     },
     "execution_count": 9,
     "metadata": {},
     "output_type": "execute_result"
    }
   ],
   "source": [
    "a"
   ]
  },
  {
   "cell_type": "code",
   "execution_count": 10,
   "id": "567dc2f8",
   "metadata": {},
   "outputs": [
    {
     "data": {
      "text/plain": [
       "10"
      ]
     },
     "execution_count": 10,
     "metadata": {},
     "output_type": "execute_result"
    }
   ],
   "source": [
    "a + a"
   ]
  },
  {
   "cell_type": "code",
   "execution_count": 11,
   "id": "d1b45929",
   "metadata": {},
   "outputs": [
    {
     "data": {
      "text/plain": [
       "10"
      ]
     },
     "execution_count": 11,
     "metadata": {},
     "output_type": "execute_result"
    }
   ],
   "source": [
    "# Reassignment\n",
    "a = a + a  # Add a+a and assign it to a \n",
    "a\n"
   ]
  },
  {
   "cell_type": "markdown",
   "id": "546c06c7",
   "metadata": {},
   "source": [
    "### type() function\n"
   ]
  },
  {
   "cell_type": "code",
   "execution_count": 12,
   "id": "630a654a",
   "metadata": {},
   "outputs": [
    {
     "data": {
      "text/plain": [
       "int"
      ]
     },
     "execution_count": 12,
     "metadata": {},
     "output_type": "execute_result"
    }
   ],
   "source": [
    "type(a)"
   ]
  },
  {
   "cell_type": "code",
   "execution_count": 13,
   "id": "f1285379",
   "metadata": {},
   "outputs": [
    {
     "data": {
      "text/plain": [
       "float"
      ]
     },
     "execution_count": 13,
     "metadata": {},
     "output_type": "execute_result"
    }
   ],
   "source": [
    "b = 3.45\n",
    "type(b)"
   ]
  },
  {
   "cell_type": "code",
   "execution_count": 14,
   "id": "f0b91c49",
   "metadata": {},
   "outputs": [
    {
     "data": {
      "text/plain": [
       "list"
      ]
     },
     "execution_count": 14,
     "metadata": {},
     "output_type": "execute_result"
    }
   ],
   "source": [
    "c = [\"hi\",345]\n",
    "type(c)"
   ]
  },
  {
   "cell_type": "markdown",
   "id": "4bd899cd",
   "metadata": {},
   "source": [
    "### Strings :\n",
    "- Strings are sequence of characters,using the syntax of either single quotes or double quotes, examples are :\n",
    "  - \"Hello\"\n",
    "  - 'Hello'\n",
    "- The advantage of having double and sigle quotes are, if in a string there is a single quote for a particular word then using double the ambiguity can be resolved, example:\n",
    "   - \"I dont't do that\"\n",
    "   \n",
    "- Because strings are __ordered sequences__ it means that we can use __indexing , slicing__  to grab sub-sections of the string.\n",
    "- Indexing notation uses __[ ]__ notation after the string(or varaible assigned the string).\n",
    "- Indexing allows us to access a single character from the string.\n",
    "- Indexing starst with  zero in python\n",
    "- Reverse indexing is also present in python\n",
    " |H|e|l|l|o|\n",
    " |-|-|-|-|-|\n",
    " |0|1|2|3|4|\n",
    " |-|-|-|-|-|\n",
    " |0|-4|-3|-2|-1|"
   ]
  },
  {
   "cell_type": "code",
   "execution_count": 26,
   "id": "b533ebfe",
   "metadata": {},
   "outputs": [
    {
     "data": {
      "text/plain": [
       "'Hello'"
      ]
     },
     "execution_count": 26,
     "metadata": {},
     "output_type": "execute_result"
    }
   ],
   "source": [
    "'Hello'"
   ]
  },
  {
   "cell_type": "code",
   "execution_count": 27,
   "id": "bea341b0",
   "metadata": {},
   "outputs": [
    {
     "data": {
      "text/plain": [
       "'Hello'"
      ]
     },
     "execution_count": 27,
     "metadata": {},
     "output_type": "execute_result"
    }
   ],
   "source": [
    "\"Hello\""
   ]
  },
  {
   "cell_type": "code",
   "execution_count": 28,
   "id": "5adb0348",
   "metadata": {},
   "outputs": [
    {
     "data": {
      "text/plain": [
       "\"That's a string\""
      ]
     },
     "execution_count": 28,
     "metadata": {},
     "output_type": "execute_result"
    }
   ],
   "source": [
    "\"That's a string\""
   ]
  },
  {
   "cell_type": "code",
   "execution_count": 29,
   "id": "3f6f941d",
   "metadata": {},
   "outputs": [
    {
     "name": "stdout",
     "output_type": "stream",
     "text": [
      "Hello\n"
     ]
    }
   ],
   "source": [
    "print(\"Hello\")"
   ]
  },
  {
   "cell_type": "markdown",
   "id": "607a2064",
   "metadata": {},
   "source": [
    "### Escape Sequences"
   ]
  },
  {
   "cell_type": "code",
   "execution_count": 31,
   "id": "753b0bab",
   "metadata": {},
   "outputs": [
    {
     "name": "stdout",
     "output_type": "stream",
     "text": [
      "Hello \n",
      "World\n"
     ]
    }
   ],
   "source": [
    "print(\"Hello \\nWorld\")"
   ]
  },
  {
   "cell_type": "code",
   "execution_count": 32,
   "id": "dc060756",
   "metadata": {},
   "outputs": [
    {
     "name": "stdout",
     "output_type": "stream",
     "text": [
      "Hello \t World\n"
     ]
    }
   ],
   "source": [
    "print(\"Hello \\t World\")"
   ]
  },
  {
   "cell_type": "markdown",
   "id": "2bfefa1f",
   "metadata": {},
   "source": [
    "### len() function : Returns the length of the string"
   ]
  },
  {
   "cell_type": "code",
   "execution_count": 36,
   "id": "64018543",
   "metadata": {},
   "outputs": [
    {
     "data": {
      "text/plain": [
       "10"
      ]
     },
     "execution_count": 36,
     "metadata": {},
     "output_type": "execute_result"
    }
   ],
   "source": [
    "x = \"HelloWorld\"\n",
    "len(x)"
   ]
  },
  {
   "cell_type": "code",
   "execution_count": 35,
   "id": "ba1e5f5a",
   "metadata": {},
   "outputs": [
    {
     "data": {
      "text/plain": [
       "14"
      ]
     },
     "execution_count": 35,
     "metadata": {},
     "output_type": "execute_result"
    }
   ],
   "source": [
    "# len() also accounts for spaces in the string\n",
    "len(\"This has space\")"
   ]
  },
  {
   "cell_type": "code",
   "execution_count": 19,
   "id": "3fb5c517",
   "metadata": {},
   "outputs": [
    {
     "data": {
      "text/plain": [
       "'g'"
      ]
     },
     "execution_count": 19,
     "metadata": {},
     "output_type": "execute_result"
    }
   ],
   "source": [
    "my_string = \"StrangerThings\"\n",
    "my_string[0:4]"
   ]
  },
  {
   "cell_type": "code",
   "execution_count": 22,
   "id": "de70409a",
   "metadata": {},
   "outputs": [
    {
     "data": {
      "text/plain": [
       "'i'"
      ]
     },
     "execution_count": 22,
     "metadata": {},
     "output_type": "execute_result"
    }
   ],
   "source": [
    "my_string[-4]"
   ]
  },
  {
   "cell_type": "markdown",
   "id": "cfb05162",
   "metadata": {},
   "source": [
    "### Slicing\n",
    "__[Start:Stop:Step]__\n",
    "- __In python last index is exclusive__"
   ]
  },
  {
   "cell_type": "code",
   "execution_count": 25,
   "id": "865e4049",
   "metadata": {},
   "outputs": [
    {
     "data": {
      "text/plain": [
       "'Srn'"
      ]
     },
     "execution_count": 25,
     "metadata": {},
     "output_type": "execute_result"
    }
   ],
   "source": [
    "my_string[0:6:2]"
   ]
  },
  {
   "cell_type": "code",
   "execution_count": 38,
   "id": "ac1a5237",
   "metadata": {},
   "outputs": [
    {
     "data": {
      "text/plain": [
       "'abcdefghijk'"
      ]
     },
     "execution_count": 38,
     "metadata": {},
     "output_type": "execute_result"
    }
   ],
   "source": [
    "mystring = \"abcdefghijk\"\n",
    "mystring\n"
   ]
  },
  {
   "cell_type": "code",
   "execution_count": 47,
   "id": "67e8d2c1",
   "metadata": {},
   "outputs": [
    {
     "data": {
      "text/plain": [
       "'abc'"
      ]
     },
     "execution_count": 47,
     "metadata": {},
     "output_type": "execute_result"
    }
   ],
   "source": [
    "\"abcdefghijk\"[0:3] # using slicing directly on a string"
   ]
  },
  {
   "cell_type": "code",
   "execution_count": 39,
   "id": "dea11771",
   "metadata": {},
   "outputs": [
    {
     "data": {
      "text/plain": [
       "'cdefgh'"
      ]
     },
     "execution_count": 39,
     "metadata": {},
     "output_type": "execute_result"
    }
   ],
   "source": [
    "# Displaying c to h\n",
    "mystring[2:8]   ### In python last index is exclusive"
   ]
  },
  {
   "cell_type": "code",
   "execution_count": 40,
   "id": "22391524",
   "metadata": {},
   "outputs": [
    {
     "data": {
      "text/plain": [
       "'abcdef'"
      ]
     },
     "execution_count": 40,
     "metadata": {},
     "output_type": "execute_result"
    }
   ],
   "source": [
    "mystring[:6]  # from 0 to 5"
   ]
  },
  {
   "cell_type": "code",
   "execution_count": 41,
   "id": "2c743dc0",
   "metadata": {},
   "outputs": [
    {
     "data": {
      "text/plain": [
       "'ijk'"
      ]
     },
     "execution_count": 41,
     "metadata": {},
     "output_type": "execute_result"
    }
   ],
   "source": [
    "mystring[8:] # 8 to end"
   ]
  },
  {
   "cell_type": "code",
   "execution_count": 42,
   "id": "959fed0a",
   "metadata": {},
   "outputs": [
    {
     "data": {
      "text/plain": [
       "'def'"
      ]
     },
     "execution_count": 42,
     "metadata": {},
     "output_type": "execute_result"
    }
   ],
   "source": [
    "# Slicing to obtain def\n",
    "mystring[3:6] # 6 exclusive"
   ]
  },
  {
   "cell_type": "code",
   "execution_count": 43,
   "id": "746ca326",
   "metadata": {},
   "outputs": [
    {
     "data": {
      "text/plain": [
       "'abcdefghijk'"
      ]
     },
     "execution_count": 43,
     "metadata": {},
     "output_type": "execute_result"
    }
   ],
   "source": [
    "## Extracting everthing from the string\n",
    "mystring[::]"
   ]
  },
  {
   "cell_type": "code",
   "execution_count": 44,
   "id": "a9fc920d",
   "metadata": {},
   "outputs": [
    {
     "data": {
      "text/plain": [
       "'acegik'"
      ]
     },
     "execution_count": 44,
     "metadata": {},
     "output_type": "execute_result"
    }
   ],
   "source": [
    "## Extracting every secinf element\n",
    "mystring[::2]"
   ]
  },
  {
   "cell_type": "markdown",
   "id": "bb3104d0",
   "metadata": {},
   "source": [
    "### String Reversal using slicing"
   ]
  },
  {
   "cell_type": "code",
   "execution_count": 45,
   "id": "fb8443e8",
   "metadata": {},
   "outputs": [
    {
     "data": {
      "text/plain": [
       "'kjihgfedcba'"
      ]
     },
     "execution_count": 45,
     "metadata": {},
     "output_type": "execute_result"
    }
   ],
   "source": [
    "mystring[::-1]"
   ]
  },
  {
   "cell_type": "markdown",
   "id": "db21f113",
   "metadata": {},
   "source": [
    "## String Properties and Methods"
   ]
  },
  {
   "cell_type": "markdown",
   "id": "37f4752b",
   "metadata": {},
   "source": [
    "### Immutability : Cannot change"
   ]
  },
  {
   "cell_type": "code",
   "execution_count": 50,
   "id": "24c9e8a8",
   "metadata": {},
   "outputs": [
    {
     "data": {
      "text/plain": [
       "'sam'"
      ]
     },
     "execution_count": 50,
     "metadata": {},
     "output_type": "execute_result"
    }
   ],
   "source": [
    " name = \"sam\"\n",
    " name"
   ]
  },
  {
   "cell_type": "code",
   "execution_count": 51,
   "id": "ca1e84f9",
   "metadata": {},
   "outputs": [
    {
     "ename": "TypeError",
     "evalue": "'str' object does not support item assignment",
     "output_type": "error",
     "traceback": [
      "\u001b[1;31m---------------------------------------------------------------------------\u001b[0m",
      "\u001b[1;31mTypeError\u001b[0m                                 Traceback (most recent call last)",
      "\u001b[1;32m~\\AppData\\Local\\Temp/ipykernel_127516/1117664476.py\u001b[0m in \u001b[0;36m<module>\u001b[1;34m\u001b[0m\n\u001b[0;32m      1\u001b[0m \u001b[1;31m# To change sam to pam, we may try name[0] = 'p' , but this is false\u001b[0m\u001b[1;33m\u001b[0m\u001b[1;33m\u001b[0m\u001b[0m\n\u001b[0;32m      2\u001b[0m \u001b[1;33m\u001b[0m\u001b[0m\n\u001b[1;32m----> 3\u001b[1;33m \u001b[0mname\u001b[0m\u001b[1;33m[\u001b[0m\u001b[1;36m0\u001b[0m\u001b[1;33m]\u001b[0m \u001b[1;33m=\u001b[0m \u001b[1;34m'p'\u001b[0m\u001b[1;33m\u001b[0m\u001b[1;33m\u001b[0m\u001b[0m\n\u001b[0m",
      "\u001b[1;31mTypeError\u001b[0m: 'str' object does not support item assignment"
     ]
    }
   ],
   "source": [
    "# To change sam to pam, we may try name[0] = 'p' , but this is false\n",
    "\n",
    "name[0] = 'p'"
   ]
  },
  {
   "cell_type": "code",
   "execution_count": 55,
   "id": "3ef14049",
   "metadata": {},
   "outputs": [
    {
     "data": {
      "text/plain": [
       "'pam'"
      ]
     },
     "execution_count": 55,
     "metadata": {},
     "output_type": "execute_result"
    }
   ],
   "source": [
    "name = 'p' + name[1:] # String concatenation\n",
    "name"
   ]
  },
  {
   "cell_type": "code",
   "execution_count": 59,
   "id": "7a22cd16",
   "metadata": {},
   "outputs": [
    {
     "data": {
      "text/plain": [
       "'Hello World!'"
      ]
     },
     "execution_count": 59,
     "metadata": {},
     "output_type": "execute_result"
    }
   ],
   "source": [
    "x = \"Hello World!\"\n",
    "x"
   ]
  },
  {
   "cell_type": "code",
   "execution_count": 62,
   "id": "9c4276ab",
   "metadata": {},
   "outputs": [
    {
     "data": {
      "text/plain": [
       "'Hello World! It is beautiful out here'"
      ]
     },
     "execution_count": 62,
     "metadata": {},
     "output_type": "execute_result"
    }
   ],
   "source": [
    " x + \" It is beautiful out here\""
   ]
  },
  {
   "cell_type": "markdown",
   "id": "5e899c68",
   "metadata": {},
   "source": [
    "### Multiple String concatenations"
   ]
  },
  {
   "cell_type": "code",
   "execution_count": 63,
   "id": "9a79cb46",
   "metadata": {},
   "outputs": [
    {
     "data": {
      "text/plain": [
       "'zzzzzzzzzz'"
      ]
     },
     "execution_count": 63,
     "metadata": {},
     "output_type": "execute_result"
    }
   ],
   "source": [
    "letter = 'z'\n",
    "letter * 10"
   ]
  },
  {
   "cell_type": "markdown",
   "id": "eb5c67d7",
   "metadata": {},
   "source": [
    "### Methods / Functions in string"
   ]
  },
  {
   "cell_type": "code",
   "execution_count": 64,
   "id": "f9d51027",
   "metadata": {},
   "outputs": [],
   "source": [
    "x = \"Hello World\""
   ]
  },
  {
   "cell_type": "code",
   "execution_count": 65,
   "id": "673ee5e0",
   "metadata": {},
   "outputs": [
    {
     "data": {
      "text/plain": [
       "'HELLO WORLD'"
      ]
     },
     "execution_count": 65,
     "metadata": {},
     "output_type": "execute_result"
    }
   ],
   "source": [
    "x.upper()   # It doesnt change the value because it is not assigned"
   ]
  },
  {
   "cell_type": "code",
   "execution_count": 66,
   "id": "3ddfd979",
   "metadata": {},
   "outputs": [
    {
     "data": {
      "text/plain": [
       "'Hello World'"
      ]
     },
     "execution_count": 66,
     "metadata": {},
     "output_type": "execute_result"
    }
   ],
   "source": [
    "x # unchanges x"
   ]
  },
  {
   "cell_type": "code",
   "execution_count": 67,
   "id": "7412cbc2",
   "metadata": {},
   "outputs": [
    {
     "data": {
      "text/plain": [
       "<function str.upper()>"
      ]
     },
     "execution_count": 67,
     "metadata": {},
     "output_type": "execute_result"
    }
   ],
   "source": [
    "x.upper # without paranthesis giver discription"
   ]
  },
  {
   "cell_type": "code",
   "execution_count": 68,
   "id": "3cc27cf5",
   "metadata": {},
   "outputs": [
    {
     "data": {
      "text/plain": [
       "['Hello', 'World']"
      ]
     },
     "execution_count": 68,
     "metadata": {},
     "output_type": "execute_result"
    }
   ],
   "source": [
    "x.split()  # Splits and generates list based on given input"
   ]
  },
  {
   "cell_type": "code",
   "execution_count": 69,
   "id": "4ed02030",
   "metadata": {},
   "outputs": [
    {
     "data": {
      "text/plain": [
       "['Hell', ' W', 'rld']"
      ]
     },
     "execution_count": 69,
     "metadata": {},
     "output_type": "execute_result"
    }
   ],
   "source": [
    "x.split('o')  # slipts from 'o'"
   ]
  }
 ],
 "metadata": {
  "kernelspec": {
   "display_name": "Python 3 (ipykernel)",
   "language": "python",
   "name": "python3"
  },
  "language_info": {
   "codemirror_mode": {
    "name": "ipython",
    "version": 3
   },
   "file_extension": ".py",
   "mimetype": "text/x-python",
   "name": "python",
   "nbconvert_exporter": "python",
   "pygments_lexer": "ipython3",
   "version": "3.9.7"
  }
 },
 "nbformat": 4,
 "nbformat_minor": 5
}
