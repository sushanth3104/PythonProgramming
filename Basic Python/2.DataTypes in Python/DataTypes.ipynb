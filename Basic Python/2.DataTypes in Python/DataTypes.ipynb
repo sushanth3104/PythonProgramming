{
 "cells": [
  {
   "cell_type": "markdown",
   "id": "87862023",
   "metadata": {},
   "source": [
    "## Basic Data Types\n",
    "\n",
    "### Data Types : \n",
    "- Integers \n",
    "- Floating Point\n",
    "- Strings\n",
    "\n",
    "### Data structures :\n",
    "- Lists\n",
    "- Dictionaries\n",
    "- Tuples\n",
    "- Sets\n"
   ]
  },
  {
   "cell_type": "markdown",
   "id": "d6ca7f70",
   "metadata": {},
   "source": [
    "| Name | Type | Description |\n",
    "| :-: |:-: | :-: |\n",
    "|__Integers__ | int | Integer numbers such as __-3__ __300__ __20__|\n",
    "|__Floating Point__ | float | Numbers with decimal point : __2.3 -4.5 100.0__|\n",
    "|__Strings__ | str | Ordered sequence of characters: \"__Hello__\",\"__Sammy__\",\"__200__\"|\n",
    "|__Lists__|list|Ordered sequence of objects : __[10,\"Hello\",20.034]__|\n",
    "|__Dictionaries__|dict|Unordered key : Value pairs : __{\"mykeys\":\"value\",\"name\":\"Frankie\"}__|\n",
    "|__Tuples__|tup|Ordered immutable sequence of objects : __(\"a\",\"10\")__|\n",
    "|__Sets__|set|Unordered collection of unique objects : __(\"a\",\"b\")__|\n",
    "|__Booleans__|bool|Logical value indicating __True__ or __False__|"
   ]
  },
  {
   "cell_type": "markdown",
   "id": "71dd4818",
   "metadata": {},
   "source": [
    "## Numbers in Python\n",
    "- Two main number types : \n",
    "  - Integers numbers\n",
    "  - Floating point numbers"
   ]
  },
  {
   "cell_type": "code",
   "execution_count": 1,
   "id": "b9e76f31",
   "metadata": {},
   "outputs": [
    {
     "data": {
      "text/plain": [
       "3"
      ]
     },
     "execution_count": 1,
     "metadata": {},
     "output_type": "execute_result"
    }
   ],
   "source": [
    "2+1"
   ]
  },
  {
   "cell_type": "code",
   "execution_count": 2,
   "id": "85ddc3c1",
   "metadata": {},
   "outputs": [
    {
     "data": {
      "text/plain": [
       "1"
      ]
     },
     "execution_count": 2,
     "metadata": {},
     "output_type": "execute_result"
    }
   ],
   "source": [
    "2-1"
   ]
  },
  {
   "cell_type": "code",
   "execution_count": 3,
   "id": "2d54c1fd",
   "metadata": {},
   "outputs": [
    {
     "data": {
      "text/plain": [
       "6"
      ]
     },
     "execution_count": 3,
     "metadata": {},
     "output_type": "execute_result"
    }
   ],
   "source": [
    "2*3"
   ]
  },
  {
   "cell_type": "code",
   "execution_count": 4,
   "id": "1b0a873d",
   "metadata": {},
   "outputs": [
    {
     "data": {
      "text/plain": [
       "1.5"
      ]
     },
     "execution_count": 4,
     "metadata": {},
     "output_type": "execute_result"
    }
   ],
   "source": [
    "3/2"
   ]
  },
  {
   "cell_type": "code",
   "execution_count": 1,
   "id": "11e63e20",
   "metadata": {},
   "outputs": [
    {
     "data": {
      "text/plain": [
       "1"
      ]
     },
     "execution_count": 1,
     "metadata": {},
     "output_type": "execute_result"
    }
   ],
   "source": [
    "3//2 # Integer division"
   ]
  },
  {
   "cell_type": "markdown",
   "id": "02460826",
   "metadata": {},
   "source": [
    "__Modulo or \"Mod\" Operator \"%\"__ : It returns the remainder after division, it works on integer data type."
   ]
  },
  {
   "cell_type": "code",
   "execution_count": 5,
   "id": "68894ab6",
   "metadata": {},
   "outputs": [
    {
     "data": {
      "text/plain": [
       "3"
      ]
     },
     "execution_count": 5,
     "metadata": {},
     "output_type": "execute_result"
    }
   ],
   "source": [
    "7 % 4"
   ]
  },
  {
   "cell_type": "code",
   "execution_count": 6,
   "id": "92e99f0d",
   "metadata": {},
   "outputs": [
    {
     "data": {
      "text/plain": [
       "0"
      ]
     },
     "execution_count": 6,
     "metadata": {},
     "output_type": "execute_result"
    }
   ],
   "source": [
    "50 % 5"
   ]
  },
  {
   "cell_type": "markdown",
   "id": "52b12b17",
   "metadata": {},
   "source": [
    "Modulo operator can be used directly to check wether a number is either __Even__ or __Odd__ ."
   ]
  },
  {
   "cell_type": "code",
   "execution_count": 7,
   "id": "526c99f7",
   "metadata": {},
   "outputs": [
    {
     "name": "stdout",
     "output_type": "stream",
     "text": [
      "1\n",
      "0\n"
     ]
    }
   ],
   "source": [
    "## If remainder after division with 2 is zero then number is Even, if not it is Odd\n",
    "\n",
    "print(23 % 2) ## Results 1 - Odd number\n",
    "\n",
    "print(26 % 2) ## Results 0 - Even number"
   ]
  },
  {
   "cell_type": "markdown",
   "id": "55c36246",
   "metadata": {},
   "source": [
    "__Power__ :\n",
    "\n",
    "x raised to y : __x ** y__"
   ]
  },
  {
   "cell_type": "code",
   "execution_count": 8,
   "id": "c6bda89e",
   "metadata": {},
   "outputs": [
    {
     "data": {
      "text/plain": [
       "16"
      ]
     },
     "execution_count": 8,
     "metadata": {},
     "output_type": "execute_result"
    }
   ],
   "source": [
    "2 ** 4"
   ]
  },
  {
   "cell_type": "code",
   "execution_count": 9,
   "id": "bf8af0d0",
   "metadata": {},
   "outputs": [
    {
     "data": {
      "text/plain": [
       "36"
      ]
     },
     "execution_count": 9,
     "metadata": {},
     "output_type": "execute_result"
    }
   ],
   "source": [
    "# Compound operations\n",
    "\n",
    "2 + (10 * 3) + (2 ** 2)"
   ]
  },
  {
   "cell_type": "markdown",
   "id": "2949d67e",
   "metadata": {},
   "source": [
    "## Variable Assignment\n",
    "- Usual rules for naming applies\n",
    "- __Lowercase__ are preferred\n",
    "- Avoid using keywords\n",
    "- All caps is preferred for __Global Variables__\n"
   ]
  },
  {
   "cell_type": "markdown",
   "id": "9159db8e",
   "metadata": {},
   "source": [
    "### Advantages of python \n",
    "- Python is Dynamically typed i.e, we can reassign variables to different data types.\n",
    "- This makes python very flexible in assigning data types,this is different than other languages that are \"Statically-Types\"."
   ]
  },
  {
   "cell_type": "code",
   "execution_count": 10,
   "id": "b1aded5a",
   "metadata": {},
   "outputs": [
    {
     "name": "stdout",
     "output_type": "stream",
     "text": [
      "2\n",
      "['Sam', 'Frank']\n"
     ]
    }
   ],
   "source": [
    "# Example to show dynamic typing\n",
    "\n",
    "# Integer\n",
    "\n",
    "my_dogs = 2 \n",
    "print(my_dogs)\n",
    "\n",
    "# List\n",
    "    \n",
    "my_dogs = [\"Sam\",\"Frank\"] \n",
    "print(my_dogs)"
   ]
  },
  {
   "cell_type": "markdown",
   "id": "1e6f51be",
   "metadata": {},
   "source": [
    "### Pros of Dynamic Typing\n",
    "- Very easy to work with\n",
    "- Faster development time\n",
    "\n",
    "### Cons of Dynamic Typing\n",
    "- May result in bugs for unexpected data types!\n",
    "- We must be aware of __type()__"
   ]
  },
  {
   "cell_type": "code",
   "execution_count": 11,
   "id": "fd969971",
   "metadata": {},
   "outputs": [],
   "source": [
    "a = 5"
   ]
  },
  {
   "cell_type": "code",
   "execution_count": 12,
   "id": "0503c2d4",
   "metadata": {},
   "outputs": [
    {
     "data": {
      "text/plain": [
       "5"
      ]
     },
     "execution_count": 12,
     "metadata": {},
     "output_type": "execute_result"
    }
   ],
   "source": [
    "a"
   ]
  },
  {
   "cell_type": "code",
   "execution_count": 13,
   "id": "38290fe0",
   "metadata": {},
   "outputs": [
    {
     "data": {
      "text/plain": [
       "10"
      ]
     },
     "execution_count": 13,
     "metadata": {},
     "output_type": "execute_result"
    }
   ],
   "source": [
    "a + a"
   ]
  },
  {
   "cell_type": "code",
   "execution_count": 14,
   "id": "6432c192",
   "metadata": {},
   "outputs": [
    {
     "data": {
      "text/plain": [
       "10"
      ]
     },
     "execution_count": 14,
     "metadata": {},
     "output_type": "execute_result"
    }
   ],
   "source": [
    "# Reassignment\n",
    "a = a + a  # Add a+a and assign it to a \n",
    "a\n"
   ]
  },
  {
   "cell_type": "markdown",
   "id": "a7b8b6d0",
   "metadata": {},
   "source": [
    "### type() function\n"
   ]
  },
  {
   "cell_type": "code",
   "execution_count": 15,
   "id": "1fe12650",
   "metadata": {},
   "outputs": [
    {
     "data": {
      "text/plain": [
       "int"
      ]
     },
     "execution_count": 15,
     "metadata": {},
     "output_type": "execute_result"
    }
   ],
   "source": [
    "type(a)"
   ]
  },
  {
   "cell_type": "code",
   "execution_count": 16,
   "id": "ce1bf8bd",
   "metadata": {},
   "outputs": [
    {
     "data": {
      "text/plain": [
       "float"
      ]
     },
     "execution_count": 16,
     "metadata": {},
     "output_type": "execute_result"
    }
   ],
   "source": [
    "b = 3.45\n",
    "type(b)"
   ]
  },
  {
   "cell_type": "code",
   "execution_count": 17,
   "id": "5f777cc4",
   "metadata": {},
   "outputs": [
    {
     "data": {
      "text/plain": [
       "list"
      ]
     },
     "execution_count": 17,
     "metadata": {},
     "output_type": "execute_result"
    }
   ],
   "source": [
    "c = [\"hi\",345]\n",
    "type(c)"
   ]
  },
  {
   "cell_type": "markdown",
   "id": "66d6b246",
   "metadata": {},
   "source": [
    "### Strings :\n",
    "- Strings are sequence of characters,using the syntax of either single quotes or double quotes, examples are :\n",
    "  - \"Hello\"\n",
    "  - 'Hello'\n",
    "- The advantage of having double and sigle quotes are, if in a string there is a single quote for a particular word then using double the ambiguity can be resolved, example:\n",
    "   - \"I dont't do that\"\n",
    "   \n",
    "- Because strings are __ordered sequences__ it means that we can use __indexing , slicing__  to grab sub-sections of the string.\n",
    "- Indexing notation uses __[ ]__ notation after the string(or varaible assigned the string).\n",
    "- Indexing allows us to access a single character from the string.\n",
    "- Indexing starst with  zero in python\n",
    "- Reverse indexing is also present in python\n",
    "- ### string is immutable, so every method that is used on it is not inplace. ###\n",
    "\n",
    " |H|e|l|l|o|\n",
    " |-|-|-|-|-|\n",
    " |0|1|2|3|4|\n",
    " |-|-|-|-|-|\n",
    " |0|-4|-3|-2|-1|"
   ]
  },
  {
   "cell_type": "code",
   "execution_count": 5,
   "id": "ed7fa1bf",
   "metadata": {},
   "outputs": [
    {
     "data": {
      "text/plain": [
       "'Hello'"
      ]
     },
     "execution_count": 5,
     "metadata": {},
     "output_type": "execute_result"
    }
   ],
   "source": [
    "'Hello'"
   ]
  },
  {
   "cell_type": "code",
   "execution_count": 6,
   "id": "bff7d202",
   "metadata": {},
   "outputs": [
    {
     "data": {
      "text/plain": [
       "'Hello'"
      ]
     },
     "execution_count": 6,
     "metadata": {},
     "output_type": "execute_result"
    }
   ],
   "source": [
    "\"Hello\""
   ]
  },
  {
   "cell_type": "code",
   "execution_count": 7,
   "id": "97c430b4",
   "metadata": {},
   "outputs": [
    {
     "data": {
      "text/plain": [
       "\"That's a string\""
      ]
     },
     "execution_count": 7,
     "metadata": {},
     "output_type": "execute_result"
    }
   ],
   "source": [
    "\"That's a string\""
   ]
  },
  {
   "cell_type": "code",
   "execution_count": 8,
   "id": "c6f87dc4",
   "metadata": {},
   "outputs": [
    {
     "name": "stdout",
     "output_type": "stream",
     "text": [
      "Hello\n"
     ]
    }
   ],
   "source": [
    "print(\"Hello\")"
   ]
  },
  {
   "cell_type": "markdown",
   "id": "f4a8797f",
   "metadata": {},
   "source": [
    "### Escape Sequences"
   ]
  },
  {
   "cell_type": "code",
   "execution_count": 9,
   "id": "51034c2c",
   "metadata": {},
   "outputs": [
    {
     "name": "stdout",
     "output_type": "stream",
     "text": [
      "Hello \n",
      "World\n"
     ]
    }
   ],
   "source": [
    "print(\"Hello \\nWorld\")"
   ]
  },
  {
   "cell_type": "code",
   "execution_count": 10,
   "id": "eb6227b4",
   "metadata": {},
   "outputs": [
    {
     "name": "stdout",
     "output_type": "stream",
     "text": [
      "Hello \t World\n"
     ]
    }
   ],
   "source": [
    "print(\"Hello \\t World\")"
   ]
  },
  {
   "cell_type": "markdown",
   "id": "9d716380",
   "metadata": {},
   "source": [
    "### len() function : Returns the length of the string"
   ]
  },
  {
   "cell_type": "code",
   "execution_count": 11,
   "id": "1080c6ca",
   "metadata": {},
   "outputs": [
    {
     "data": {
      "text/plain": [
       "10"
      ]
     },
     "execution_count": 11,
     "metadata": {},
     "output_type": "execute_result"
    }
   ],
   "source": [
    "x = \"HelloWorld\"\n",
    "len(x)"
   ]
  },
  {
   "cell_type": "code",
   "execution_count": 12,
   "id": "ceee62a5",
   "metadata": {},
   "outputs": [
    {
     "data": {
      "text/plain": [
       "14"
      ]
     },
     "execution_count": 12,
     "metadata": {},
     "output_type": "execute_result"
    }
   ],
   "source": [
    "# len() also accounts for spaces in the string\n",
    "len(\"This has space\")"
   ]
  },
  {
   "cell_type": "code",
   "execution_count": 13,
   "id": "f8f0ea6e",
   "metadata": {},
   "outputs": [
    {
     "data": {
      "text/plain": [
       "'Stra'"
      ]
     },
     "execution_count": 13,
     "metadata": {},
     "output_type": "execute_result"
    }
   ],
   "source": [
    "my_string = \"StrangerThings\"\n",
    "my_string[0:4]"
   ]
  },
  {
   "cell_type": "code",
   "execution_count": 14,
   "id": "0d465802",
   "metadata": {},
   "outputs": [
    {
     "data": {
      "text/plain": [
       "'i'"
      ]
     },
     "execution_count": 14,
     "metadata": {},
     "output_type": "execute_result"
    }
   ],
   "source": [
    "my_string[-4]"
   ]
  },
  {
   "cell_type": "markdown",
   "id": "104f90b5",
   "metadata": {},
   "source": [
    "### Slicing\n",
    "__[Start:Stop:Step]__\n",
    "- __In python last index is exclusive__"
   ]
  },
  {
   "cell_type": "code",
   "execution_count": 15,
   "id": "fd15be7a",
   "metadata": {},
   "outputs": [
    {
     "data": {
      "text/plain": [
       "'Srn'"
      ]
     },
     "execution_count": 15,
     "metadata": {},
     "output_type": "execute_result"
    }
   ],
   "source": [
    "my_string[0:6:2]"
   ]
  },
  {
   "cell_type": "code",
   "execution_count": 16,
   "id": "e297bd46",
   "metadata": {},
   "outputs": [
    {
     "data": {
      "text/plain": [
       "'abcdefghijk'"
      ]
     },
     "execution_count": 16,
     "metadata": {},
     "output_type": "execute_result"
    }
   ],
   "source": [
    "mystring = \"abcdefghijk\"\n",
    "mystring\n"
   ]
  },
  {
   "cell_type": "code",
   "execution_count": 17,
   "id": "35add7d9",
   "metadata": {},
   "outputs": [
    {
     "data": {
      "text/plain": [
       "'abc'"
      ]
     },
     "execution_count": 17,
     "metadata": {},
     "output_type": "execute_result"
    }
   ],
   "source": [
    "\"abcdefghijk\"[0:3] # using slicing directly on a string"
   ]
  },
  {
   "cell_type": "code",
   "execution_count": 18,
   "id": "00a194c9",
   "metadata": {},
   "outputs": [
    {
     "data": {
      "text/plain": [
       "'cdefgh'"
      ]
     },
     "execution_count": 18,
     "metadata": {},
     "output_type": "execute_result"
    }
   ],
   "source": [
    "# Displaying c to h\n",
    "mystring[2:8]   ### In python last index is exclusive"
   ]
  },
  {
   "cell_type": "code",
   "execution_count": 19,
   "id": "b4b98aa4",
   "metadata": {},
   "outputs": [
    {
     "data": {
      "text/plain": [
       "'abcdef'"
      ]
     },
     "execution_count": 19,
     "metadata": {},
     "output_type": "execute_result"
    }
   ],
   "source": [
    "mystring[:6]  # from 0 to 5"
   ]
  },
  {
   "cell_type": "code",
   "execution_count": 20,
   "id": "f1bf255d",
   "metadata": {},
   "outputs": [
    {
     "data": {
      "text/plain": [
       "'ijk'"
      ]
     },
     "execution_count": 20,
     "metadata": {},
     "output_type": "execute_result"
    }
   ],
   "source": [
    "mystring[8:] # 8 to end"
   ]
  },
  {
   "cell_type": "code",
   "execution_count": 21,
   "id": "f4dbed63",
   "metadata": {},
   "outputs": [
    {
     "data": {
      "text/plain": [
       "'def'"
      ]
     },
     "execution_count": 21,
     "metadata": {},
     "output_type": "execute_result"
    }
   ],
   "source": [
    "# Slicing to obtain def\n",
    "mystring[3:6] # 6 exclusive"
   ]
  },
  {
   "cell_type": "code",
   "execution_count": 22,
   "id": "bad64f68",
   "metadata": {},
   "outputs": [
    {
     "data": {
      "text/plain": [
       "'abcdefghijk'"
      ]
     },
     "execution_count": 22,
     "metadata": {},
     "output_type": "execute_result"
    }
   ],
   "source": [
    "## Extracting everthing from the string\n",
    "mystring[::]"
   ]
  },
  {
   "cell_type": "code",
   "execution_count": 23,
   "id": "4dbf9758",
   "metadata": {},
   "outputs": [
    {
     "data": {
      "text/plain": [
       "'acegik'"
      ]
     },
     "execution_count": 23,
     "metadata": {},
     "output_type": "execute_result"
    }
   ],
   "source": [
    "## Extracting every second element\n",
    "mystring[::2]"
   ]
  },
  {
   "cell_type": "markdown",
   "id": "a59cfd21",
   "metadata": {},
   "source": [
    "### String Reversal using slicing"
   ]
  },
  {
   "cell_type": "code",
   "execution_count": 24,
   "id": "bc1bb48e",
   "metadata": {},
   "outputs": [
    {
     "data": {
      "text/plain": [
       "'kjihgfedcba'"
      ]
     },
     "execution_count": 24,
     "metadata": {},
     "output_type": "execute_result"
    }
   ],
   "source": [
    "mystring[::-1]"
   ]
  },
  {
   "cell_type": "markdown",
   "id": "4317a9f2",
   "metadata": {},
   "source": [
    "## String Properties and Methods"
   ]
  },
  {
   "cell_type": "markdown",
   "id": "e64cb2dd",
   "metadata": {},
   "source": [
    "### Immutability : Cannot change"
   ]
  },
  {
   "cell_type": "code",
   "execution_count": 25,
   "id": "9aea2b26",
   "metadata": {},
   "outputs": [
    {
     "data": {
      "text/plain": [
       "'sam'"
      ]
     },
     "execution_count": 25,
     "metadata": {},
     "output_type": "execute_result"
    }
   ],
   "source": [
    "name = \"sam\"\n",
    "name"
   ]
  },
  {
   "cell_type": "code",
   "execution_count": 26,
   "id": "0aff1fd2",
   "metadata": {},
   "outputs": [
    {
     "ename": "TypeError",
     "evalue": "'str' object does not support item assignment",
     "output_type": "error",
     "traceback": [
      "\u001b[0;31m---------------------------------------------------------------------------\u001b[0m",
      "\u001b[0;31mTypeError\u001b[0m                                 Traceback (most recent call last)",
      "\u001b[1;32m/Users/sushanthkumar/Desktop/Programming/Python/2.DataTypes in Python/DataTypes.ipynb Cell 56'\u001b[0m in \u001b[0;36m<cell line: 3>\u001b[0;34m()\u001b[0m\n\u001b[1;32m      <a href='vscode-notebook-cell:/Users/sushanthkumar/Desktop/Programming/Python/2.DataTypes%20in%20Python/DataTypes.ipynb#ch0000055?line=0'>1</a>\u001b[0m \u001b[39m# To change sam to pam, we may try name[0] = 'p' , but this is false\u001b[39;00m\n\u001b[0;32m----> <a href='vscode-notebook-cell:/Users/sushanthkumar/Desktop/Programming/Python/2.DataTypes%20in%20Python/DataTypes.ipynb#ch0000055?line=2'>3</a>\u001b[0m name[\u001b[39m0\u001b[39m] \u001b[39m=\u001b[39m \u001b[39m'\u001b[39m\u001b[39mp\u001b[39m\u001b[39m'\u001b[39m\n",
      "\u001b[0;31mTypeError\u001b[0m: 'str' object does not support item assignment"
     ]
    }
   ],
   "source": [
    "# To change sam to pam, we may try name[0] = 'p' , but this is false\n",
    "\n",
    "name[0] = 'p'"
   ]
  },
  {
   "cell_type": "code",
   "execution_count": 27,
   "id": "02f0e6ed",
   "metadata": {},
   "outputs": [
    {
     "data": {
      "text/plain": [
       "'pam'"
      ]
     },
     "execution_count": 27,
     "metadata": {},
     "output_type": "execute_result"
    }
   ],
   "source": [
    "name = 'p' + name[1:] # String concatenation\n",
    "name"
   ]
  },
  {
   "cell_type": "code",
   "execution_count": 28,
   "id": "eec1a77e",
   "metadata": {},
   "outputs": [
    {
     "data": {
      "text/plain": [
       "'Hello World!'"
      ]
     },
     "execution_count": 28,
     "metadata": {},
     "output_type": "execute_result"
    }
   ],
   "source": [
    "x = \"Hello World!\"\n",
    "x"
   ]
  },
  {
   "cell_type": "code",
   "execution_count": 29,
   "id": "bfe3e1b1",
   "metadata": {},
   "outputs": [
    {
     "data": {
      "text/plain": [
       "'Hello World! It is beautiful out here'"
      ]
     },
     "execution_count": 29,
     "metadata": {},
     "output_type": "execute_result"
    }
   ],
   "source": [
    "x + \" It is beautiful out here\""
   ]
  },
  {
   "cell_type": "markdown",
   "id": "73b42c8d",
   "metadata": {},
   "source": [
    "### Multiple String concatenations"
   ]
  },
  {
   "cell_type": "code",
   "execution_count": 30,
   "id": "74fda358",
   "metadata": {},
   "outputs": [
    {
     "data": {
      "text/plain": [
       "'zzzzzzzzzz'"
      ]
     },
     "execution_count": 30,
     "metadata": {},
     "output_type": "execute_result"
    }
   ],
   "source": [
    "letter = 'z'\n",
    "letter * 10"
   ]
  },
  {
   "cell_type": "markdown",
   "id": "4b47c939",
   "metadata": {},
   "source": [
    "### Methods / Functions in string"
   ]
  },
  {
   "cell_type": "code",
   "execution_count": 31,
   "id": "48c73b59",
   "metadata": {},
   "outputs": [],
   "source": [
    "x = \"Hello World\""
   ]
  },
  {
   "cell_type": "code",
   "execution_count": 32,
   "id": "4d444bb7",
   "metadata": {},
   "outputs": [
    {
     "data": {
      "text/plain": [
       "'HELLO WORLD'"
      ]
     },
     "execution_count": 32,
     "metadata": {},
     "output_type": "execute_result"
    }
   ],
   "source": [
    "x.upper()   # It doesnt change the value because it is not assigned , since string is immutable."
   ]
  },
  {
   "cell_type": "code",
   "execution_count": 33,
   "id": "19047250",
   "metadata": {},
   "outputs": [
    {
     "data": {
      "text/plain": [
       "'Hello World'"
      ]
     },
     "execution_count": 33,
     "metadata": {},
     "output_type": "execute_result"
    }
   ],
   "source": [
    "x # unchanges x"
   ]
  },
  {
   "cell_type": "code",
   "execution_count": 34,
   "id": "2dd4ccf5",
   "metadata": {},
   "outputs": [
    {
     "data": {
      "text/plain": [
       "<function str.upper()>"
      ]
     },
     "execution_count": 34,
     "metadata": {},
     "output_type": "execute_result"
    }
   ],
   "source": [
    "x.upper # without paranthesis giver discription"
   ]
  },
  {
   "cell_type": "code",
   "execution_count": 35,
   "id": "228fb5e3",
   "metadata": {},
   "outputs": [
    {
     "data": {
      "text/plain": [
       "['Hello', 'World']"
      ]
     },
     "execution_count": 35,
     "metadata": {},
     "output_type": "execute_result"
    }
   ],
   "source": [
    "x.split()  # Splits and generates list based on given input , default argument = \" \" space"
   ]
  },
  {
   "cell_type": "code",
   "execution_count": 36,
   "id": "bad013be",
   "metadata": {},
   "outputs": [
    {
     "data": {
      "text/plain": [
       "['Hell', ' W', 'rld']"
      ]
     },
     "execution_count": 36,
     "metadata": {},
     "output_type": "execute_result"
    }
   ],
   "source": [
    "x.split('o')  # slipts from 'o'"
   ]
  },
  {
   "cell_type": "code",
   "execution_count": 11,
   "id": "488a155b",
   "metadata": {},
   "outputs": [
    {
     "data": {
      "text/plain": [
       "['0', '1', '2', '3', '4', '5', '6', '7', '8', '9']"
      ]
     },
     "execution_count": 11,
     "metadata": {},
     "output_type": "execute_result"
    }
   ],
   "source": [
    "# To split an entire string into individual characters : using list comprehension\n",
    "\n",
    "num = \"0123456789\"\n",
    "num_list = [letter for letter in num]\n",
    "num_list"
   ]
  },
  {
   "cell_type": "markdown",
   "id": "e09c7875",
   "metadata": {},
   "source": [
    "__Print Fromatting with Strings__"
   ]
  },
  {
   "cell_type": "code",
   "execution_count": 37,
   "id": "504feca1",
   "metadata": {},
   "outputs": [
    {
     "name": "stdout",
     "output_type": "stream",
     "text": [
      "Hello Sushanth\n"
     ]
    }
   ],
   "source": [
    "# There are multiple ways for string formatting, the easiest among them is string concatenation,\n",
    "# and the powerful among them are String Interpolation\n",
    "# String Interpolation has two methods, they are:\n",
    "# 1) .format() - {This is a method} \n",
    "# 2) f-strings - {formatted string literals}\n",
    "\n",
    "## Using String Concatenation\n",
    "my_name = \"Sushanth\"\n",
    "print(\"Hello \"+my_name)  "
   ]
  },
  {
   "cell_type": "markdown",
   "id": "4a930a93",
   "metadata": {},
   "source": [
    "__Fromatting with .format() method__ :\n",
    "\n",
    "- A good way to format objects into our strings for print statements is with the string.format() method. The syntax is :\n",
    "- '__String here {} then also {}__'.format('Something1','Something2')"
   ]
  },
  {
   "cell_type": "code",
   "execution_count": 38,
   "id": "6020f0b7",
   "metadata": {},
   "outputs": [
    {
     "name": "stdout",
     "output_type": "stream",
     "text": [
      "This is a string Inserted\n"
     ]
    }
   ],
   "source": [
    "print(\"This is a string {}\".format(\"Inserted\"))"
   ]
  },
  {
   "cell_type": "code",
   "execution_count": 39,
   "id": "7c58670a",
   "metadata": {},
   "outputs": [
    {
     "name": "stdout",
     "output_type": "stream",
     "text": [
      "The Lion is the King of the Jungle\n"
     ]
    }
   ],
   "source": [
    "print(\"The {} is the {} of the {}\".format(\"Lion\",\"King\",\"Jungle\"))"
   ]
  },
  {
   "cell_type": "code",
   "execution_count": 40,
   "id": "b20d2aac",
   "metadata": {},
   "outputs": [
    {
     "name": "stdout",
     "output_type": "stream",
     "text": [
      "The Lion is the King of the Jungle\n",
      "The Lion is the King of the Jungle\n"
     ]
    }
   ],
   "source": [
    "# Formatting based on indices and keyword\n",
    "Animal = \"Lion\"\n",
    "Role = \"King\"\n",
    "Place = \"Jungle\"\n",
    "\n",
    "# The indices given are as per the order in the fromat input\n",
    "print(\"The {2} is the {0} of the {1}\".format(Role,Place,Animal))\n",
    "\n",
    "print(\"The {L} is the {K} of the {J}\".format(L = \"Lion\",K= \"King\",J = \"Jungle\"))"
   ]
  },
  {
   "cell_type": "markdown",
   "id": "c6aa7ee2",
   "metadata": {},
   "source": [
    "__String Literals__"
   ]
  },
  {
   "cell_type": "code",
   "execution_count": 41,
   "id": "4677fccb",
   "metadata": {},
   "outputs": [
    {
     "name": "stdout",
     "output_type": "stream",
     "text": [
      "My name is Sushanth Kumar\n"
     ]
    }
   ],
   "source": [
    "name = \"Sushanth Kumar\"\n",
    "print(f\"My name is {name}\")   ## used widely as of now"
   ]
  },
  {
   "cell_type": "code",
   "execution_count": 42,
   "id": "bd5e4fe9",
   "metadata": {},
   "outputs": [
    {
     "name": "stdout",
     "output_type": "stream",
     "text": [
      "My name is Sushanth Kumar, my age is 21\n"
     ]
    }
   ],
   "source": [
    "name = \"Sushanth Kumar\"\n",
    "age = 21\n",
    "\n",
    "print(f\"My name is {name}, my age is {age}\")\n"
   ]
  },
  {
   "cell_type": "markdown",
   "id": "72b2b488",
   "metadata": {},
   "source": [
    "## Lists ##\n"
   ]
  },
  {
   "cell_type": "markdown",
   "id": "14dc9ec8",
   "metadata": {},
   "source": [
    "- Lists are ordered sequences that can hold a variety of object types.\n",
    "- They use __[ ]__ brackets and commas to seperate objects in the list.\n",
    "  - [1,2,'sush','T']\n",
    "- Lists supports indexing and slicing. Lists can be nested and also have a variety of useful methods that can be called off of them.\n"
   ]
  },
  {
   "cell_type": "code",
   "execution_count": 43,
   "id": "0ccd7952",
   "metadata": {},
   "outputs": [
    {
     "data": {
      "text/plain": [
       "3"
      ]
     },
     "execution_count": 43,
     "metadata": {},
     "output_type": "execute_result"
    }
   ],
   "source": [
    "my_list = [\"Sush\",1,3355]\n",
    "len(my_list)"
   ]
  },
  {
   "cell_type": "code",
   "execution_count": 44,
   "id": "2f4e2f5d",
   "metadata": {},
   "outputs": [
    {
     "data": {
      "text/plain": [
       "['Sush']"
      ]
     },
     "execution_count": 44,
     "metadata": {},
     "output_type": "execute_result"
    }
   ],
   "source": [
    "my_list[0:1]"
   ]
  },
  {
   "cell_type": "code",
   "execution_count": 45,
   "id": "6bd6b159",
   "metadata": {},
   "outputs": [
    {
     "data": {
      "text/plain": [
       "[1, 3355]"
      ]
     },
     "execution_count": 45,
     "metadata": {},
     "output_type": "execute_result"
    }
   ],
   "source": [
    "my_list[1:]"
   ]
  },
  {
   "cell_type": "code",
   "execution_count": 46,
   "id": "275e1cce",
   "metadata": {},
   "outputs": [
    {
     "data": {
      "text/plain": [
       "['Sush', 1, 3355, 'Kumar', 5533, 3]"
      ]
     },
     "execution_count": 46,
     "metadata": {},
     "output_type": "execute_result"
    }
   ],
   "source": [
    "another_list = [\"Kumar\",5533,3]\n",
    "\n",
    "# List concatenation\n",
    "\n",
    "new_list = my_list + another_list\n",
    "new_list"
   ]
  },
  {
   "cell_type": "code",
   "execution_count": 47,
   "id": "1eed599f",
   "metadata": {},
   "outputs": [
    {
     "data": {
      "text/plain": [
       "['SUSH', 1, 3355, 'Kumar', 5533, 3]"
      ]
     },
     "execution_count": 47,
     "metadata": {},
     "output_type": "execute_result"
    }
   ],
   "source": [
    "new_list[0] = new_list[0].upper()    # since string is immutable\n",
    "new_list"
   ]
  },
  {
   "cell_type": "code",
   "execution_count": 48,
   "id": "b52cfa0f",
   "metadata": {},
   "outputs": [
    {
     "data": {
      "text/plain": [
       "['SUSH', 1, 3355, 'Kumar', 5533, 3, 'Thaviti']"
      ]
     },
     "execution_count": 48,
     "metadata": {},
     "output_type": "execute_result"
    }
   ],
   "source": [
    "# Adding elements at the end of a list\n",
    "new_list.append(\"Thaviti\")\n",
    "new_list\n"
   ]
  },
  {
   "cell_type": "code",
   "execution_count": 49,
   "id": "8cd81cf7",
   "metadata": {},
   "outputs": [
    {
     "data": {
      "text/plain": [
       "'Thaviti'"
      ]
     },
     "execution_count": 49,
     "metadata": {},
     "output_type": "execute_result"
    }
   ],
   "source": [
    "# Removing element at the end of the list\n",
    "last_element = new_list.pop()\n",
    "last_element"
   ]
  },
  {
   "cell_type": "code",
   "execution_count": 50,
   "id": "3e0f549b",
   "metadata": {},
   "outputs": [
    {
     "data": {
      "text/plain": [
       "'SUSH'"
      ]
     },
     "execution_count": 50,
     "metadata": {},
     "output_type": "execute_result"
    }
   ],
   "source": [
    "# Removing element at any required index in a list\n",
    "# To do this we must provide the index to the pop method as an argument\n",
    "\n",
    "popped_element = new_list.pop(0)\n",
    "popped_element"
   ]
  },
  {
   "cell_type": "code",
   "execution_count": 51,
   "id": "c38bb003",
   "metadata": {},
   "outputs": [],
   "source": [
    "# Sort and Reverse methods\n",
    "new_list = ['a','v','e','l']\n",
    "num_list = [3,6,1,2]"
   ]
  },
  {
   "cell_type": "code",
   "execution_count": 52,
   "id": "86d2edbb",
   "metadata": {},
   "outputs": [
    {
     "data": {
      "text/plain": [
       "['a', 'e', 'l', 'v']"
      ]
     },
     "execution_count": 52,
     "metadata": {},
     "output_type": "execute_result"
    }
   ],
   "source": [
    "new_list.sort()   # Inplace or it directly effects the original list , it doesn't return any thing\n",
    "new_list"
   ]
  },
  {
   "cell_type": "code",
   "execution_count": 53,
   "id": "2895132f",
   "metadata": {},
   "outputs": [
    {
     "data": {
      "text/plain": [
       "[1, 2, 3, 6]"
      ]
     },
     "execution_count": 53,
     "metadata": {},
     "output_type": "execute_result"
    }
   ],
   "source": [
    "num_list.sort() # Inplace or it directly effects the original list\n",
    "num_list"
   ]
  },
  {
   "cell_type": "code",
   "execution_count": 54,
   "id": "f0b4fe8f",
   "metadata": {},
   "outputs": [
    {
     "data": {
      "text/plain": [
       "['v', 'l', 'e', 'a']"
      ]
     },
     "execution_count": 54,
     "metadata": {},
     "output_type": "execute_result"
    }
   ],
   "source": [
    "# Reverse method , it is also in-place method\n",
    "new_list.reverse()\n",
    "new_list "
   ]
  },
  {
   "cell_type": "markdown",
   "id": "8bdb7639",
   "metadata": {},
   "source": [
    "## Dictionaries ##\n",
    "- Dictionaries are unordered mappings for storing objects. Previously we saw how lists store objects in an ordered sequence.\n",
    "- Dictionaries uses a __Key-value__ pair instead of indexing.\n",
    "- This __Key-Value__ pair allows users to quicly grab objects without needing to know an index allocation.\n",
    "- Dictionaries uses curly braces and colons to signify the keys and their associated values.\n",
    "  - __{'Key1':'Value1' , 'Key2':'Value2' }__\n",
    "\n",
    "- _So when to choose list and when to choose a dictionary ??_\n",
    "- __Dictionaries:__ Objects are retrived by key name.\n",
    "  - Unordered and can not be sorted.\n",
    "- __Lists:__ Objects retrived by location.\n",
    "  - Ordered sequence can be indexed or sliced.\n"
   ]
  },
  {
   "cell_type": "code",
   "execution_count": 55,
   "id": "006b8456",
   "metadata": {},
   "outputs": [
    {
     "data": {
      "text/plain": [
       "{'key1': 'Sushanth', 'key2': 3355}"
      ]
     },
     "execution_count": 55,
     "metadata": {},
     "output_type": "execute_result"
    }
   ],
   "source": [
    "my_dict = {'key1':\"Sushanth\",'key2':3355}\n",
    "my_dict"
   ]
  },
  {
   "cell_type": "code",
   "execution_count": 56,
   "id": "b553541d",
   "metadata": {},
   "outputs": [
    {
     "name": "stdout",
     "output_type": "stream",
     "text": [
      "Sushanth\n",
      "3355\n"
     ]
    }
   ],
   "source": [
    "print(my_dict['key1'])\n",
    "print(my_dict['key2'])"
   ]
  },
  {
   "cell_type": "code",
   "execution_count": 2,
   "id": "eab0b60b",
   "metadata": {},
   "outputs": [
    {
     "name": "stdout",
     "output_type": "stream",
     "text": [
      "{'Brush': 20, 'Denim Shirt': 200, 'Jeans': 400}\n",
      "dict_keys(['Brush', 'Denim Shirt', 'Jeans'])\n",
      "<class 'dict_keys'>\n"
     ]
    }
   ],
   "source": [
    "# Typical use case of a dictionary : Price lookups\n",
    "\n",
    "price_lookups = {'Brush':20,'Denim Shirt': 200,'Jeans':400}\n",
    "my_keys = price_lookups.keys()\n",
    "print(price_lookups)\n",
    "print(my_keys)\n",
    "print(type(my_keys))"
   ]
  },
  {
   "cell_type": "code",
   "execution_count": 58,
   "id": "724183d1",
   "metadata": {},
   "outputs": [
    {
     "data": {
      "text/plain": [
       "400"
      ]
     },
     "execution_count": 58,
     "metadata": {},
     "output_type": "execute_result"
    }
   ],
   "source": [
    "price_lookups['Jeans']"
   ]
  },
  {
   "cell_type": "code",
   "execution_count": 59,
   "id": "62181e78",
   "metadata": {},
   "outputs": [
    {
     "name": "stdout",
     "output_type": "stream",
     "text": [
      "{'k1': 123, 'k2': ['Sushanth', 'Kumar', '3355'], 'inside': {'insideofinside': 'This is sub-dict', 'k5': [1, 2, 3, 4, 's']}}\n",
      "This is sub-dict\n",
      "2\n",
      "S\n"
     ]
    }
   ],
   "source": [
    "# Dictionaries can hold lists, tuples and Other Dictionaries aswell\n",
    "\n",
    "d = {'k1':123,'k2':['Sushanth','Kumar','3355'],'inside':{'insideofinside':'This is sub-dict','k5':[1,2,3,4,'s']}}\n",
    "print(d)\n",
    "\n",
    "# Accessing elements of a nested dictionary\n",
    "\n",
    "print(d['inside']['insideofinside'])  \n",
    "print(d['inside']['k5'][1]) # accessing elements of a list in a nested dictionary\n",
    "\n",
    "# Converting the last letter in the above list by accessing it from nested dictionary (.upperr() is not inplace method)\n",
    "print(d['inside']['k5'][-1].upper())\n",
    " "
   ]
  },
  {
   "cell_type": "code",
   "execution_count": 60,
   "id": "bb2db285",
   "metadata": {},
   "outputs": [
    {
     "name": "stdout",
     "output_type": "stream",
     "text": [
      "{'k1': 'sushanth', 'k2': 'kumar'}\n",
      "{'k1': 'sushanth', 'k2': 'kumar', 'k3': 'Thaviti'}\n"
     ]
    }
   ],
   "source": [
    "# Adding new key value pair to a dictionary\n",
    "\n",
    "my_dictionary = {'k1':'sushanth','k2':'kumar'}\n",
    "print(my_dictionary)\n",
    "\n",
    "my_dictionary['k3'] = \"Thaviti\"\n",
    "print(my_dictionary)\n"
   ]
  },
  {
   "cell_type": "code",
   "execution_count": 61,
   "id": "3f50e7e6",
   "metadata": {},
   "outputs": [
    {
     "name": "stdout",
     "output_type": "stream",
     "text": [
      "{'k1': 'sushanth', 'k2': 'kumar', 'k3': 'thaviti'}\n"
     ]
    }
   ],
   "source": [
    "# Over writing in a disctionary\n",
    "\n",
    "my_dictionary['k3'] = \"thaviti\"\n",
    "print(my_dictionary)\n"
   ]
  },
  {
   "cell_type": "code",
   "execution_count": 62,
   "id": "545f15dc",
   "metadata": {},
   "outputs": [
    {
     "name": "stdout",
     "output_type": "stream",
     "text": [
      "dict_keys(['k1', 'k2', 'k3'])\n",
      "dict_values(['sushanth', 'kumar', 'thaviti'])\n",
      "dict_items([('k1', 'sushanth'), ('k2', 'kumar'), ('k3', 'thaviti')])\n"
     ]
    }
   ],
   "source": [
    "# Accessing all keys of a dictionary\n",
    "print(my_dictionary.keys())\n",
    "\n",
    "# Accessing all values of a dictionary\n",
    "print(my_dictionary.values())\n",
    "\n",
    "# Accessing all the elements of dictionary\n",
    "print(my_dictionary.items()) # This generated tuples"
   ]
  },
  {
   "cell_type": "markdown",
   "id": "89fefc01",
   "metadata": {},
   "source": [
    "## Tuples ##\n",
    "- Tuples are very similar to lists but they are __immutable__.\n",
    "- Once an element is inside a tuple can not be reassigned.\n",
    "- Tuples use parenthesis : __(1,2,3)__\n"
   ]
  },
  {
   "cell_type": "code",
   "execution_count": 63,
   "id": "a19665cc",
   "metadata": {},
   "outputs": [
    {
     "data": {
      "text/plain": [
       "tuple"
      ]
     },
     "execution_count": 63,
     "metadata": {},
     "output_type": "execute_result"
    }
   ],
   "source": [
    "my_tuple = (1,2,\"Sushanth\")\n",
    "type(my_tuple)"
   ]
  },
  {
   "cell_type": "code",
   "execution_count": 64,
   "id": "d649fe28",
   "metadata": {},
   "outputs": [
    {
     "data": {
      "text/plain": [
       "3"
      ]
     },
     "execution_count": 64,
     "metadata": {},
     "output_type": "execute_result"
    }
   ],
   "source": [
    "len(my_tuple)"
   ]
  },
  {
   "cell_type": "code",
   "execution_count": 65,
   "id": "bb2a1549",
   "metadata": {},
   "outputs": [
    {
     "data": {
      "text/plain": [
       "(1, 2)"
      ]
     },
     "execution_count": 65,
     "metadata": {},
     "output_type": "execute_result"
    }
   ],
   "source": [
    "my_tuple[0:2]"
   ]
  },
  {
   "cell_type": "code",
   "execution_count": 66,
   "id": "a710947e",
   "metadata": {},
   "outputs": [
    {
     "data": {
      "text/plain": [
       "'Sushanth'"
      ]
     },
     "execution_count": 66,
     "metadata": {},
     "output_type": "execute_result"
    }
   ],
   "source": [
    "my_tuple[-1]"
   ]
  },
  {
   "cell_type": "code",
   "execution_count": 67,
   "id": "33129131",
   "metadata": {},
   "outputs": [
    {
     "data": {
      "text/plain": [
       "0"
      ]
     },
     "execution_count": 67,
     "metadata": {},
     "output_type": "execute_result"
    }
   ],
   "source": [
    "my_tuple = ('a','a','b')\n",
    "my_tuple.count('a') # Counts number of times a has appeared in the tuple\n",
    "my_tuple.index('a') # Returns the index of first appearence of 'a'"
   ]
  },
  {
   "cell_type": "code",
   "execution_count": 68,
   "id": "ca4e4879",
   "metadata": {},
   "outputs": [
    {
     "ename": "TypeError",
     "evalue": "'tuple' object does not support item assignment",
     "output_type": "error",
     "traceback": [
      "\u001b[0;31m---------------------------------------------------------------------------\u001b[0m",
      "\u001b[0;31mTypeError\u001b[0m                                 Traceback (most recent call last)",
      "\u001b[1;32m/Users/sushanthkumar/Desktop/Programming/Python/2.DataTypes in Python/DataTypes.ipynb Cell 107'\u001b[0m in \u001b[0;36m<cell line: 2>\u001b[0;34m()\u001b[0m\n\u001b[1;32m      <a href='vscode-notebook-cell:/Users/sushanthkumar/Desktop/Programming/Python/2.DataTypes%20in%20Python/DataTypes.ipynb#ch0000106?line=0'>1</a>\u001b[0m \u001b[39m# Immutable\u001b[39;00m\n\u001b[0;32m----> <a href='vscode-notebook-cell:/Users/sushanthkumar/Desktop/Programming/Python/2.DataTypes%20in%20Python/DataTypes.ipynb#ch0000106?line=1'>2</a>\u001b[0m my_tuple[\u001b[39m0\u001b[39m] \u001b[39m=\u001b[39m \u001b[39m\"\u001b[39m\u001b[39msushanth\u001b[39m\u001b[39m\"\u001b[39m\n",
      "\u001b[0;31mTypeError\u001b[0m: 'tuple' object does not support item assignment"
     ]
    }
   ],
   "source": [
    "# Immutable\n",
    "my_tuple[0] = \"sushanth\"\n",
    "\n",
    "# This property of immutability is very useful when we are using classes and objects in large projects, provides data integrity"
   ]
  },
  {
   "cell_type": "code",
   "execution_count": 3,
   "id": "abdce7b5",
   "metadata": {},
   "outputs": [
    {
     "data": {
      "text/plain": [
       "(1, 2, 3)"
      ]
     },
     "execution_count": 3,
     "metadata": {},
     "output_type": "execute_result"
    }
   ],
   "source": [
    "# Creating a single element tuple\n",
    "\n",
    "my_tuple = ( 10 ,)   # , is must\n",
    "my_tuple\n",
    "\n",
    "\n",
    "# Creating a tuple without using brackets\n",
    "\n",
    "my_tuple = 1,2,3\n",
    "my_tuple"
   ]
  },
  {
   "cell_type": "markdown",
   "id": "0f6748d5",
   "metadata": {},
   "source": [
    "## Sets in Python ##\n",
    "- Sets are unordered collections of __unique__ elements.\n",
    "- Meaning there can be only one representative of the same object.  \n",
    "- Sets do not have any particular order associated with them.  "
   ]
  },
  {
   "cell_type": "code",
   "execution_count": 69,
   "id": "143a6049",
   "metadata": {},
   "outputs": [
    {
     "name": "stdout",
     "output_type": "stream",
     "text": [
      "set()\n"
     ]
    }
   ],
   "source": [
    "myset = set()\n",
    "print(myset)"
   ]
  },
  {
   "cell_type": "code",
   "execution_count": 70,
   "id": "c362e84c",
   "metadata": {},
   "outputs": [
    {
     "name": "stdout",
     "output_type": "stream",
     "text": [
      "{'sushanth'}\n"
     ]
    }
   ],
   "source": [
    "myset.add(\"sushanth\")\n",
    "print(myset)"
   ]
  },
  {
   "cell_type": "code",
   "execution_count": 71,
   "id": "644062b3",
   "metadata": {},
   "outputs": [
    {
     "name": "stdout",
     "output_type": "stream",
     "text": [
      "{'2', 'sushanth'}\n"
     ]
    }
   ],
   "source": [
    "myset.add(\"2\")\n",
    "print(myset)"
   ]
  },
  {
   "cell_type": "code",
   "execution_count": 72,
   "id": "ec5d879a",
   "metadata": {},
   "outputs": [
    {
     "name": "stdout",
     "output_type": "stream",
     "text": [
      "{'2', 'sushanth'}\n"
     ]
    }
   ],
   "source": [
    "myset.add(\"2\")\n",
    "print(myset)\n",
    "\n",
    "# This doesnt add another 2 to the exsiting set because the 2 is already present and set cant have repeating elements\n"
   ]
  },
  {
   "cell_type": "code",
   "execution_count": 73,
   "id": "55ce830a",
   "metadata": {},
   "outputs": [
    {
     "name": "stdout",
     "output_type": "stream",
     "text": [
      "{1, 3.141, 'sushanth'}\n"
     ]
    }
   ],
   "source": [
    "# The main use of sets is obtaining unique elements of a list by casting\n",
    "# Example :\n",
    "\n",
    "my_list = [1,'sushanth',3.141,'sushanth',3.141,1,'sushanth',3.141,'sushanth']\n",
    "my_unique_list = set(my_list)\n",
    "print(my_unique_list)"
   ]
  },
  {
   "cell_type": "code",
   "execution_count": 74,
   "id": "e5cc69ac",
   "metadata": {},
   "outputs": [
    {
     "data": {
      "text/plain": [
       "{'S', 'a', 'h', 'n', 's', 't', 'u'}"
      ]
     },
     "execution_count": 74,
     "metadata": {},
     "output_type": "execute_result"
    }
   ],
   "source": [
    "set('Sushanth')   # Order is completely random \n",
    "\n",
    "## very useful in many cases - because it spits out underlying characters in a string"
   ]
  },
  {
   "cell_type": "markdown",
   "id": "24b3a081",
   "metadata": {},
   "source": [
    "## Booleans ## \n",
    "- Booleans are operators that allow us to convey __True__ or __False__ statements.\n",
    "- These are very important later on when we deal with control flow and logic."
   ]
  },
  {
   "cell_type": "code",
   "execution_count": null,
   "id": "1f8a3d85",
   "metadata": {},
   "outputs": [],
   "source": [
    "True "
   ]
  },
  {
   "cell_type": "code",
   "execution_count": null,
   "id": "950cc8b8",
   "metadata": {},
   "outputs": [],
   "source": [
    "False"
   ]
  },
  {
   "cell_type": "code",
   "execution_count": null,
   "id": "543c8ff7",
   "metadata": {},
   "outputs": [],
   "source": [
    "type(True)"
   ]
  },
  {
   "cell_type": "code",
   "execution_count": 1,
   "id": "dd11c794",
   "metadata": {},
   "outputs": [
    {
     "data": {
      "text/plain": [
       "False"
      ]
     },
     "execution_count": 1,
     "metadata": {},
     "output_type": "execute_result"
    }
   ],
   "source": [
    "1 > 2 # Comparision opertors"
   ]
  },
  {
   "cell_type": "code",
   "execution_count": null,
   "id": "b5aef051",
   "metadata": {},
   "outputs": [],
   "source": [
    "1 == 1"
   ]
  },
  {
   "cell_type": "code",
   "execution_count": null,
   "id": "882ecaef",
   "metadata": {},
   "outputs": [],
   "source": [
    "b = None # place holder\n",
    "type(b)"
   ]
  },
  {
   "cell_type": "markdown",
   "id": "bb8e27d0",
   "metadata": {},
   "source": [
    "## Files ##\n",
    "- This is an overiew of simple I/O with basic.txt files and file paths.\n",
    "- These procedures directly extends to other file types\n"
   ]
  },
  {
   "cell_type": "code",
   "execution_count": null,
   "id": "32bfb3ef",
   "metadata": {},
   "outputs": [],
   "source": [
    "# This creates a .txt file with the contents given below\n",
    "%%writefile myfile.txt\n",
    "Hello this is text file \n",
    "This is the second line \n",
    "This is the third line\n"
   ]
  },
  {
   "cell_type": "code",
   "execution_count": null,
   "id": "8314827b",
   "metadata": {},
   "outputs": [],
   "source": [
    "myfile = open('myfile.txt')"
   ]
  },
  {
   "cell_type": "code",
   "execution_count": null,
   "id": "890b6c77",
   "metadata": {},
   "outputs": [],
   "source": [
    "\n",
    "pwd \n"
   ]
  },
  {
   "cell_type": "code",
   "execution_count": null,
   "id": "bb2c808b",
   "metadata": {},
   "outputs": [],
   "source": [
    "myfile = open('myfile.txt')"
   ]
  },
  {
   "cell_type": "code",
   "execution_count": null,
   "id": "f3597ca4",
   "metadata": {},
   "outputs": [],
   "source": [
    "myfile.read()"
   ]
  },
  {
   "cell_type": "code",
   "execution_count": null,
   "id": "15d61fc8",
   "metadata": {},
   "outputs": [],
   "source": [
    "myfile.read()  # This results an empty string\n",
    "               # So we need to reset the cursor to read it back again"
   ]
  },
  {
   "cell_type": "markdown",
   "id": "0556edc5",
   "metadata": {},
   "source": [
    "The above happens because, we can think of it as like the file having some cursor to the begining of it and it reaches the file end as it is read."
   ]
  },
  {
   "cell_type": "code",
   "execution_count": null,
   "id": "c16831e0",
   "metadata": {},
   "outputs": [],
   "source": [
    "myfile.seek(0)  # This resets the cursor"
   ]
  },
  {
   "cell_type": "code",
   "execution_count": null,
   "id": "22c97a30",
   "metadata": {},
   "outputs": [],
   "source": [
    "# This also includes escape sequences in\n",
    "contents = myfile.read()\n",
    "contents\n"
   ]
  },
  {
   "cell_type": "code",
   "execution_count": null,
   "id": "d9e541a9",
   "metadata": {},
   "outputs": [],
   "source": [
    "myfile.seek(0)\n",
    "myfile.readlines() # Generates a list : This is needed in most cases to distinguish lines  "
   ]
  },
  {
   "cell_type": "markdown",
   "id": "5397061b",
   "metadata": {},
   "source": [
    "### To open a file  which is to be readed is in other folder, Provide the complete path ### "
   ]
  },
  {
   "cell_type": "markdown",
   "id": "459661ca",
   "metadata": {},
   "source": [
    "myfile = open('path/mytext.txt')"
   ]
  },
  {
   "cell_type": "markdown",
   "id": "daa218c5",
   "metadata": {},
   "source": [
    "### Best practices in File opening and closing ###\n"
   ]
  },
  {
   "cell_type": "markdown",
   "id": "189f1f82",
   "metadata": {},
   "source": [
    "Always close a file after use is done"
   ]
  },
  {
   "cell_type": "code",
   "execution_count": 3,
   "id": "31e32419",
   "metadata": {},
   "outputs": [
    {
     "data": {
      "text/plain": [
       "''"
      ]
     },
     "execution_count": 3,
     "metadata": {},
     "output_type": "execute_result"
    }
   ],
   "source": [
    "with open('myfile.txt') as my_new_file:\n",
    "    contents = my_new_file.read()\n",
    "\n",
    "# If we use this we need not to worry about closing the file\n",
    "\n",
    "contents"
   ]
  },
  {
   "cell_type": "markdown",
   "id": "021815b5",
   "metadata": {},
   "source": [
    "Reading and Writing into Files"
   ]
  },
  {
   "cell_type": "code",
   "execution_count": null,
   "id": "c49fb6e1",
   "metadata": {},
   "outputs": [],
   "source": [
    "with open('myfile.txt',mode = 'r') as myfile :\n",
    "    contents = myfile.read()\n"
   ]
  },
  {
   "cell_type": "code",
   "execution_count": null,
   "id": "9b775aa7",
   "metadata": {},
   "outputs": [],
   "source": [
    "with open('myfile.txt',mode = 'w') as myfile:\n",
    "    contents = myfile.read()\n",
    "\n",
    "# mode = 'r' read only\n",
    "# mode = 'w' Write only\n",
    "# mode = 'a' append only\n",
    "# mode = 'r+' reading and writing\n",
    "# mode = 'w+' writing and reading(Overwrites existing files or creates a new file!)"
   ]
  },
  {
   "cell_type": "code",
   "execution_count": 34,
   "id": "283b9d21",
   "metadata": {},
   "outputs": [
    {
     "name": "stdout",
     "output_type": "stream",
     "text": [
      "This is first\n",
      "This is second\n",
      "This is third\n",
      "\n"
     ]
    }
   ],
   "source": [
    "with open('my_new_file.txt',mode = 'r') as f:\n",
    "    print(f.read())"
   ]
  },
  {
   "cell_type": "code",
   "execution_count": 38,
   "id": "55e78ac3",
   "metadata": {},
   "outputs": [
    {
     "name": "stdout",
     "output_type": "stream",
     "text": [
      "This is first\n",
      "This is second\n",
      "This is third\n",
      "This is Fourth\n"
     ]
    }
   ],
   "source": [
    "with open('my_new_file.txt',mode = 'a') as f:\n",
    "    f.write(\"\\nThis is Fourth\")\n",
    "\n",
    "with open('my_new_file.txt',mode = 'r') as f:\n",
    "    print(f.read())"
   ]
  },
  {
   "cell_type": "code",
   "execution_count": 39,
   "id": "f443ab13",
   "metadata": {},
   "outputs": [
    {
     "name": "stdout",
     "output_type": "stream",
     "text": [
      "This is a new text file\n"
     ]
    }
   ],
   "source": [
    "#  Write mode creates a  file if it doesnt exist already\n",
    "with open('write_file.txt',mode  = 'w') as f:\n",
    "    f.write(\"This is a new text file\")\n",
    "\n",
    "with open('write_file.txt',mode = 'r') as f:\n",
    "    print(f.read())"
   ]
  }
 ],
 "metadata": {
  "kernelspec": {
   "display_name": "Python 3.8.9 64-bit",
   "language": "python",
   "name": "python3"
  },
  "language_info": {
   "codemirror_mode": {
    "name": "ipython",
    "version": 3
   },
   "file_extension": ".py",
   "mimetype": "text/x-python",
   "name": "python",
   "nbconvert_exporter": "python",
   "pygments_lexer": "ipython3",
   "version": "3.9.6"
  },
  "vscode": {
   "interpreter": {
    "hash": "31f2aee4e71d21fbe5cf8b01ff0e069b9275f58929596ceb00d14d90e3e16cd6"
   }
  }
 },
 "nbformat": 4,
 "nbformat_minor": 5
}
