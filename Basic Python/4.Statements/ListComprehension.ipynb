{
 "cells": [
  {
   "cell_type": "markdown",
   "metadata": {},
   "source": [
    "Provides compact and elegant way to write python code\n",
    "- syntax : new_list = [expression for member in iterable]"
   ]
  },
  {
   "cell_type": "code",
   "execution_count": 2,
   "metadata": {},
   "outputs": [
    {
     "name": "stdout",
     "output_type": "stream",
     "text": [
      "[1, 4, 9, 16]\n"
     ]
    }
   ],
   "source": [
    "# To genrate squares upto a given number\n",
    "Number =  int(input(\"Enter the number up to which squares must be printed\"))\n",
    "\n",
    "squares_list = [ num**2 for num in range(1,Number+1)]\n",
    "print(squares_list)"
   ]
  },
  {
   "cell_type": "markdown",
   "metadata": {},
   "source": [
    "### List comprehensions with functions ###"
   ]
  },
  {
   "cell_type": "code",
   "execution_count": 3,
   "metadata": {},
   "outputs": [],
   "source": [
    "def cubes(num):\n",
    "    return num**3"
   ]
  },
  {
   "cell_type": "code",
   "execution_count": 5,
   "metadata": {},
   "outputs": [
    {
     "name": "stdout",
     "output_type": "stream",
     "text": [
      "[1, 8, 27, 64, 125, 216]\n"
     ]
    }
   ],
   "source": [
    "Number =  int(input(\"Enter the number up to which squares must be printed\"))\n",
    "\n",
    "cube_list = [cubes(num) for num in range(1,Number+1)]\n",
    "print(cube_list)"
   ]
  },
  {
   "cell_type": "markdown",
   "metadata": {},
   "source": [
    "### if-else with list comprehension ###"
   ]
  },
  {
   "cell_type": "code",
   "execution_count": 6,
   "metadata": {},
   "outputs": [
    {
     "name": "stdout",
     "output_type": "stream",
     "text": [
      "[0, 2, 4, 6, 8, 10, 12, 14, 16, 18, 20]\n"
     ]
    }
   ],
   "source": [
    "# To find all even numbers up to given number\n",
    "\n",
    "number = int(input(\"Enter the number upto whichh evens must be printed\"))\n",
    "\n",
    "even_list = [ num for num in range(number+1) if num%2 == 0]\n",
    "print(even_list)"
   ]
  },
  {
   "cell_type": "markdown",
   "metadata": {},
   "source": [
    "### Modifying a list based on other list ###"
   ]
  },
  {
   "cell_type": "code",
   "execution_count": 8,
   "metadata": {},
   "outputs": [
    {
     "name": "stdout",
     "output_type": "stream",
     "text": [
      "[0, 0, 0, 4, 5, 6, 7, 8, 0]\n"
     ]
    }
   ],
   "source": [
    "# Assuming list a is given, we want to create a list b such that when even an element of a is less than 4, we set correspondind\n",
    "# element in b to 0 and copy the same element to b if a is unaltered\n",
    "\n",
    "a = [1,2,3,4,5,6,7,8,2]  # given list\n",
    "\n",
    "b = [ 0 if num<4 else num for num in a ]\n",
    "\n",
    "print(b)\n"
   ]
  },
  {
   "cell_type": "markdown",
   "metadata": {},
   "source": [
    "### List comprehension with sets and other data types ###"
   ]
  },
  {
   "cell_type": "code",
   "execution_count": 11,
   "metadata": {},
   "outputs": [
    {
     "data": {
      "text/plain": [
       "{'e', 'o'}"
      ]
     },
     "execution_count": 11,
     "metadata": {},
     "output_type": "execute_result"
    }
   ],
   "source": [
    "quote = \"Hello everybody\"\n",
    "\n",
    "# All unique vowels \n",
    "\n",
    "unique_vowels = { letter for letter in quote if letter in \"aeiou\"}\n",
    "unique_vowels\n"
   ]
  },
  {
   "cell_type": "code",
   "execution_count": 14,
   "metadata": {},
   "outputs": [
    {
     "name": "stdout",
     "output_type": "stream",
     "text": [
      "<class 'dict'>\n",
      "{1: 1, 2: 4, 3: 9, 4: 16, 5: 25, 6: 36, 7: 49, 8: 64}\n"
     ]
    }
   ],
   "source": [
    "# Dictionary of number and square pairs\n",
    "\n",
    "number = int(input(\"Enter the number\"))\n",
    "\n",
    "squares = { num : num**2 for num in range(1,number+1)}\n",
    "print(type(squares))\n",
    "print(squares)"
   ]
  },
  {
   "cell_type": "markdown",
   "metadata": {},
   "source": [
    "### List comprehension should not be always used, because it takes up a lot of memory  ###\n",
    "- Instead we can use generator\n",
    "- Generator comprehension simply uses paranthesis"
   ]
  },
  {
   "cell_type": "code",
   "execution_count": 16,
   "metadata": {},
   "outputs": [
    {
     "name": "stdout",
     "output_type": "stream",
     "text": [
      "List sum 499500\n",
      "Generator sum 499500\n",
      "8856\n",
      "112\n"
     ]
    }
   ],
   "source": [
    "# sum of some finite numbers\n",
    "\n",
    "import sys\n",
    "\n",
    "list = [num for num in range(1000)]\n",
    "\n",
    "Sum_list = sum(list)\n",
    "print(f\"List sum {Sum_list}\")\n",
    "\n",
    "generator_list = (num for num in range(1000))\n",
    "\n",
    "sum_gen  = sum(generator_list)\n",
    "print(f\"Generator sum {sum_gen}\")\n",
    "\n",
    "print(sys.getsizeof(list))\n",
    "print(sys.getsizeof(generator_list))\n",
    "\n",
    "\n"
   ]
  },
  {
   "cell_type": "markdown",
   "metadata": {},
   "source": [
    "### List Comprehension can be fast but that's not always the case, so we need to check the speed always. ###"
   ]
  },
  {
   "cell_type": "code",
   "execution_count": 2,
   "metadata": {},
   "outputs": [
    {
     "name": "stdout",
     "output_type": "stream",
     "text": [
      "20.579535999999997\n"
     ]
    }
   ],
   "source": [
    "from timeit import default_timer as timer\n",
    "\n",
    "start = timer()\n",
    "a = [i**2 for i in range(100000000)]\n",
    "end = timer()\n",
    "\n",
    "print(end - start)"
   ]
  },
  {
   "cell_type": "code",
   "execution_count": 3,
   "metadata": {},
   "outputs": [
    {
     "name": "stdout",
     "output_type": "stream",
     "text": [
      "25.651876833999992\n"
     ]
    }
   ],
   "source": [
    "from timeit import default_timer as timer\n",
    "\n",
    "start = timer()\n",
    "a = []\n",
    "for i in range(100000000):\n",
    "    a.append(i**2)\n",
    "end = timer()\n",
    "\n",
    "print(end-start)\n"
   ]
  }
 ],
 "metadata": {
  "kernelspec": {
   "display_name": "Python 3.9.6 64-bit",
   "language": "python",
   "name": "python3"
  },
  "language_info": {
   "codemirror_mode": {
    "name": "ipython",
    "version": 3
   },
   "file_extension": ".py",
   "mimetype": "text/x-python",
   "name": "python",
   "nbconvert_exporter": "python",
   "pygments_lexer": "ipython3",
   "version": "3.9.6"
  },
  "orig_nbformat": 4,
  "vscode": {
   "interpreter": {
    "hash": "31f2aee4e71d21fbe5cf8b01ff0e069b9275f58929596ceb00d14d90e3e16cd6"
   }
  }
 },
 "nbformat": 4,
 "nbformat_minor": 2
}
