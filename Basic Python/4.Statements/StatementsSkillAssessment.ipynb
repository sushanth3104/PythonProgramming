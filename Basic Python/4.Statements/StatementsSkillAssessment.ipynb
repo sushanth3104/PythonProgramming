{
 "cells": [
  {
   "cell_type": "markdown",
   "metadata": {},
   "source": [
    "1. Use for,.split and if to create a statement that will print out words that start with 's'."
   ]
  },
  {
   "cell_type": "code",
   "execution_count": 15,
   "metadata": {},
   "outputs": [],
   "source": [
    "st = 'Print only the words that Start with s in the sentence'"
   ]
  },
  {
   "cell_type": "code",
   "execution_count": 16,
   "metadata": {},
   "outputs": [
    {
     "data": {
      "text/plain": [
       "['Start', 's', 'sentence']"
      ]
     },
     "execution_count": 16,
     "metadata": {},
     "output_type": "execute_result"
    }
   ],
   "source": [
    "# Solution\n",
    "\n",
    "mystrlist = [letter for letter in st.split() if ((letter[0] == 's' ) or (letter[0] == 'S' ))]\n",
    "mystrlist"
   ]
  },
  {
   "cell_type": "markdown",
   "metadata": {},
   "source": [
    "2. Use range() to print all the even numbers from 0 to 10 "
   ]
  },
  {
   "cell_type": "code",
   "execution_count": 6,
   "metadata": {},
   "outputs": [
    {
     "data": {
      "text/plain": [
       "[0, 2, 4, 6, 8, 10]"
      ]
     },
     "execution_count": 6,
     "metadata": {},
     "output_type": "execute_result"
    }
   ],
   "source": [
    "#using list comprehension\n",
    "\n",
    "mylist = [ num for num in range(0,11) if num%2 == 0 ]\n",
    "mylist"
   ]
  },
  {
   "cell_type": "markdown",
   "metadata": {},
   "source": [
    "3. Use a List Comprehension to create a list of all numbers between 1 and 50 that are divisible by 3."
   ]
  },
  {
   "cell_type": "code",
   "execution_count": 7,
   "metadata": {},
   "outputs": [
    {
     "data": {
      "text/plain": [
       "[3, 6, 9, 12, 15, 18, 21, 24, 27, 30, 33, 36, 39, 42, 45, 48]"
      ]
     },
     "execution_count": 7,
     "metadata": {},
     "output_type": "execute_result"
    }
   ],
   "source": [
    "mylist = [num for num in range(1,51) if num%3 == 0]\n",
    "\n",
    "mylist"
   ]
  },
  {
   "cell_type": "markdown",
   "metadata": {},
   "source": [
    "4.Go through the string below and if the length of a word is even print 'even'"
   ]
  },
  {
   "cell_type": "code",
   "execution_count": 2,
   "metadata": {},
   "outputs": [
    {
     "name": "stdout",
     "output_type": "stream",
     "text": [
      "The 3(word) has even number of letter\n",
      "The 4(in) has even number of letter\n",
      "The 5(this) has even number of letter\n",
      "The 6(sentence) has even number of letter\n",
      "The 7(that) has even number of letter\n",
      "The 9(an) has even number of letter\n",
      "The 10(even) has even number of letter\n",
      "The 11(number) has even number of letter\n",
      "The 12(of) has even number of letter\n"
     ]
    }
   ],
   "source": [
    "st = 'Print every word in this sentence that has an even number of letters'\n",
    "\n",
    "for no,word in enumerate(st.split()):\n",
    "    if len(word)%2 == 0:\n",
    "        print(f'The {no+1}({word}) has even number of letter')"
   ]
  },
  {
   "cell_type": "code",
   "execution_count": 19,
   "metadata": {},
   "outputs": [
    {
     "name": "stdout",
     "output_type": "stream",
     "text": [
      "'word' has even number of elements\n",
      "'in' has even number of elements\n",
      "'this' has even number of elements\n",
      "'sentence' has even number of elements\n",
      "'that' has even number of elements\n",
      "'an' has even number of elements\n",
      "'even' has even number of elements\n",
      "'number' has even number of elements\n",
      "'of' has even number of elements\n"
     ]
    }
   ],
   "source": [
    "## Alternate code \n",
    "\n",
    "def is_even(word):\n",
    "    if len(word)%2 == 0 :\n",
    "        print(f\"'{word}' has even number of elements\")\n",
    "\n",
    "st = 'Print every word in this sentence that has an even number of letters'\n",
    "\n",
    "call_func = [is_even(word) for word in st.split()]\n",
    "\n",
    "\n"
   ]
  },
  {
   "cell_type": "markdown",
   "metadata": {},
   "source": [
    "5.Write a program that prints the integers from 1 to 100. But for multiples of three print 'Fizz' instead of the number, and for the multiples of five print 'Buzz'. For numbers which are both multiples of three and five print 'FizzBuzz'."
   ]
  },
  {
   "cell_type": "code",
   "execution_count": 12,
   "metadata": {},
   "outputs": [
    {
     "name": "stdout",
     "output_type": "stream",
     "text": [
      "3-Fizz\n",
      "5-Buzz\n",
      "6-Fizz\n",
      "9-Fizz\n",
      "10-Buzz\n",
      "12-Fizz\n",
      "15-FizzBuzz\n",
      "18-Fizz\n",
      "20-Buzz\n",
      "21-Fizz\n",
      "24-Fizz\n",
      "25-Buzz\n",
      "27-Fizz\n",
      "30-FizzBuzz\n",
      "33-Fizz\n",
      "35-Buzz\n",
      "36-Fizz\n",
      "39-Fizz\n",
      "40-Buzz\n",
      "42-Fizz\n",
      "45-FizzBuzz\n",
      "48-Fizz\n",
      "50-Buzz\n",
      "51-Fizz\n",
      "54-Fizz\n",
      "55-Buzz\n",
      "57-Fizz\n",
      "60-FizzBuzz\n",
      "63-Fizz\n",
      "65-Buzz\n",
      "66-Fizz\n",
      "69-Fizz\n",
      "70-Buzz\n",
      "72-Fizz\n",
      "75-FizzBuzz\n",
      "78-Fizz\n",
      "80-Buzz\n",
      "81-Fizz\n",
      "84-Fizz\n",
      "85-Buzz\n",
      "87-Fizz\n",
      "90-FizzBuzz\n",
      "93-Fizz\n",
      "95-Buzz\n",
      "96-Fizz\n",
      "99-Fizz\n",
      "100-Buzz\n"
     ]
    }
   ],
   "source": [
    "for num in range(1,101):\n",
    "    if num%3 == 0 :\n",
    "        if num % 5 == 0 :\n",
    "            print(f'{num}-FizzBuzz')\n",
    "        else:\n",
    "            print(f'{num}-Fizz')\n",
    "    elif num%5 == 0:\n",
    "        print(f'{num}-Buzz')"
   ]
  },
  {
   "cell_type": "markdown",
   "metadata": {},
   "source": [
    "6. Use List Comprehension to create a list of the first letters of every word in the string below.\n"
   ]
  },
  {
   "cell_type": "code",
   "execution_count": 14,
   "metadata": {},
   "outputs": [
    {
     "data": {
      "text/plain": [
       "['C', 'a', 'l', 'o', 't', 'f', 'l', 'o', 'e', 'w', 'i', 't', 's']"
      ]
     },
     "execution_count": 14,
     "metadata": {},
     "output_type": "execute_result"
    }
   ],
   "source": [
    "st = 'Create a list of the first letters of every word in this string'\n",
    "\n",
    "mystrlist = [word[0] for word in st.split()]\n",
    "\n",
    "mystrlist"
   ]
  },
  {
   "cell_type": "markdown",
   "metadata": {},
   "source": [
    "7.Compute the power of given a list of base numbers and either an exponent value or a list of exponents\n",
    "\n",
    "- Eg:\n",
    "- [2, 3, 6, 10] ^ 2 =  [4, 9, 36, 100]\n",
    "- [2, 3, 6, 10] ^ [2, 3, 1, 4] =  [4, 27, 36, 10000]"
   ]
  },
  {
   "cell_type": "code",
   "execution_count": 9,
   "metadata": {},
   "outputs": [],
   "source": [
    "\n",
    "def listpower(initial_list,list_power):\n",
    "    if isinstance(list_power,int): # List raised to some power\n",
    "        new_list = [ num**list_power for num in initial_list]\n",
    "    else : \n",
    "        zip_list = list(zip(initial_list,list_power)) # List of tuples\n",
    "        new_list = [ base**index for base,index in zip_list ]\n",
    "    return new_list"
   ]
  },
  {
   "cell_type": "code",
   "execution_count": 10,
   "metadata": {},
   "outputs": [
    {
     "data": {
      "text/plain": [
       "[1, 8, 27, 64]"
      ]
     },
     "execution_count": 10,
     "metadata": {},
     "output_type": "execute_result"
    }
   ],
   "source": [
    "listpower([1,2,3,4],3)"
   ]
  },
  {
   "cell_type": "code",
   "execution_count": 11,
   "metadata": {},
   "outputs": [
    {
     "data": {
      "text/plain": [
       "[1, 4, 27, 256]"
      ]
     },
     "execution_count": 11,
     "metadata": {},
     "output_type": "execute_result"
    }
   ],
   "source": [
    "listpower([1,2,3,4],[1,2,3,4])"
   ]
  }
 ],
 "metadata": {
  "kernelspec": {
   "display_name": "Python 3.8.9 64-bit",
   "language": "python",
   "name": "python3"
  },
  "language_info": {
   "codemirror_mode": {
    "name": "ipython",
    "version": 3
   },
   "file_extension": ".py",
   "mimetype": "text/x-python",
   "name": "python",
   "nbconvert_exporter": "python",
   "pygments_lexer": "ipython3",
   "version": "3.9.6"
  },
  "orig_nbformat": 4,
  "vscode": {
   "interpreter": {
    "hash": "31f2aee4e71d21fbe5cf8b01ff0e069b9275f58929596ceb00d14d90e3e16cd6"
   }
  }
 },
 "nbformat": 4,
 "nbformat_minor": 2
}
