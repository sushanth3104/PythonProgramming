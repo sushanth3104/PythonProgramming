{
 "cells": [
  {
   "cell_type": "markdown",
   "metadata": {},
   "source": [
    "### Lambda functions : ###\n",
    "- These are the anonymous functions that we use for one time use.\n",
    "- We really dont care to name them.\n",
    "- To fully understand lambda expressions we must understand Map Function and Filter Function.\n"
   ]
  },
  {
   "cell_type": "code",
   "execution_count": 1,
   "metadata": {},
   "outputs": [],
   "source": [
    "# map function\n",
    "\n",
    "def square(num):\n",
    "    # A simple function that takes in a number and \n",
    "    # returns the square of that number\n",
    "    return num**2\n"
   ]
  },
  {
   "cell_type": "code",
   "execution_count": 2,
   "metadata": {},
   "outputs": [
    {
     "data": {
      "text/plain": [
       "<map at 0x108852c10>"
      ]
     },
     "execution_count": 2,
     "metadata": {},
     "output_type": "execute_result"
    }
   ],
   "source": [
    "my_list = [1,2,3,4,5]\n",
    "\n",
    "# now we want to apply the square fun on every element of this list\n",
    "# This objective can be achieved by using for loops, but map function \n",
    "# is a better alternative in such cases\n",
    "\n",
    "map(square,my_list)\n",
    "# This displays the location of the map function in memory"
   ]
  },
  {
   "cell_type": "code",
   "execution_count": 3,
   "metadata": {},
   "outputs": [
    {
     "name": "stdout",
     "output_type": "stream",
     "text": [
      "1\n",
      "4\n",
      "9\n",
      "16\n",
      "25\n"
     ]
    }
   ],
   "source": [
    "# Iterating through every item\n",
    "\n",
    "for item in map(square,my_list):\n",
    "    print(item)"
   ]
  },
  {
   "cell_type": "code",
   "execution_count": null,
   "metadata": {},
   "outputs": [],
   "source": [
    "## using inbuit list function\n",
    "\n",
    "list(map(square,my_list)) # useful"
   ]
  },
  {
   "cell_type": "code",
   "execution_count": null,
   "metadata": {},
   "outputs": [],
   "source": [
    "# Another example\n",
    "\n",
    "def splicer(mystring):\n",
    "    if len(mystring)%2 == 0:\n",
    "         return \"EVEN\"\n",
    "    else :\n",
    "        return mystring[0]"
   ]
  },
  {
   "cell_type": "code",
   "execution_count": null,
   "metadata": {},
   "outputs": [],
   "source": [
    "my_strings = [\"Sushanth\",\"Kumar\",\"Thaviti\"]\n",
    "\n",
    "# Applying map on all the elements of the list\n",
    "\n",
    "list(map(splicer,my_strings))"
   ]
  },
  {
   "cell_type": "markdown",
   "metadata": {},
   "source": [
    "### Filter Function : ###\n",
    "- Function must return true or false"
   ]
  },
  {
   "cell_type": "code",
   "execution_count": null,
   "metadata": {},
   "outputs": [],
   "source": [
    "def check_even(num):\n",
    "    return num%2 == 0  # returns a boolean\n"
   ]
  },
  {
   "cell_type": "code",
   "execution_count": null,
   "metadata": {},
   "outputs": [],
   "source": [
    "my_nums = [1,2,3,4,5]\n",
    "\n",
    "# if we want to grab only numbers that are even or simply if we \n",
    "# only want the iterables that satisfy some function defined condition\n",
    "# then we will use the filter function\n",
    "\n",
    "filter(check_even,my_nums) # returns filter address\n",
    "list(filter(check_even,my_nums)) # Returns  those iterables which satisfy \n",
    "                                 # predefined condition"
   ]
  },
  {
   "cell_type": "code",
   "execution_count": null,
   "metadata": {},
   "outputs": [],
   "source": [
    "# if we dont want list we can iterate\n",
    "\n",
    "for n in filter(check_even,my_nums):\n",
    "    print(n)"
   ]
  },
  {
   "cell_type": "markdown",
   "metadata": {},
   "source": [
    "## Lambda Expression : (Most imp) ##\n",
    "- Also called as anonymous function "
   ]
  },
  {
   "cell_type": "code",
   "execution_count": null,
   "metadata": {},
   "outputs": [],
   "source": [
    "# converting a function  to lambda expression\n",
    "\n",
    "## Normal function\n",
    "\n",
    "def square(num):\n",
    "    result = num**2\n",
    "    return result"
   ]
  },
  {
   "cell_type": "code",
   "execution_count": null,
   "metadata": {},
   "outputs": [],
   "source": [
    "# lambda expression\n",
    "# From previously defined function : remove def (replace to lambda )function name , return key words and take everything inline\n",
    "\n",
    "square = lambda num : num**2 # right of : is returned\n",
    "\n",
    "square(10)"
   ]
  },
  {
   "cell_type": "markdown",
   "metadata": {},
   "source": [
    "### Lambda functions are anonymous ###\n",
    "- They are mostly used in conjunction with map and filter functions\n"
   ]
  },
  {
   "cell_type": "code",
   "execution_count": null,
   "metadata": {},
   "outputs": [],
   "source": [
    "# Lambda with map\n",
    "my_nums = [1,2,3,4,5]\n",
    "list(map(lambda num : num**2,my_nums))"
   ]
  },
  {
   "cell_type": "code",
   "execution_count": null,
   "metadata": {},
   "outputs": [],
   "source": [
    "# lambda with filter\n",
    "my_list = [1,2,3,4,5,6,7,8,9]\n",
    "\n",
    "list(filter(lambda num: num%2 ==0,my_list))"
   ]
  },
  {
   "cell_type": "code",
   "execution_count": 2,
   "metadata": {},
   "outputs": [
    {
     "data": {
      "text/plain": [
       "['s', 'K', 'T']"
      ]
     },
     "execution_count": 2,
     "metadata": {},
     "output_type": "execute_result"
    }
   ],
   "source": [
    "# Obtaining the first character of a string\n",
    "\n",
    "my_strings = [\"sushanth\",\"Kumar\",\"Thaviti\"]\n",
    "\n",
    "list(map(lambda word:word[0],my_strings))"
   ]
  },
  {
   "cell_type": "code",
   "execution_count": 1,
   "metadata": {},
   "outputs": [
    {
     "data": {
      "text/plain": [
       "['htnahsus', 'ramuK', 'itivahT']"
      ]
     },
     "execution_count": 1,
     "metadata": {},
     "output_type": "execute_result"
    }
   ],
   "source": [
    "# String reversal in each word\n",
    "\n",
    "my_strings = [\"sushanth\",\"Kumar\",\"Thaviti\"]\n",
    "\n",
    "list(map(lambda word:word[::-1],my_strings))"
   ]
  },
  {
   "cell_type": "markdown",
   "metadata": {},
   "source": [
    "## Note : Not every function can be expressed as lambda expression ##"
   ]
  }
 ],
 "metadata": {
  "kernelspec": {
   "display_name": "Python 3.10.6 ('PythonProg')",
   "language": "python",
   "name": "python3"
  },
  "language_info": {
   "codemirror_mode": {
    "name": "ipython",
    "version": 3
   },
   "file_extension": ".py",
   "mimetype": "text/x-python",
   "name": "python",
   "nbconvert_exporter": "python",
   "pygments_lexer": "ipython3",
   "version": "3.10.6"
  },
  "orig_nbformat": 4,
  "vscode": {
   "interpreter": {
    "hash": "29121379c54006a402e7a0be7cae212d0370106bfe7b343480c3f9a7baac140c"
   }
  }
 },
 "nbformat": 4,
 "nbformat_minor": 2
}
