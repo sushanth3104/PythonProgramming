{
 "cells": [
  {
   "cell_type": "markdown",
   "metadata": {},
   "source": [
    "### Object Oriented Programming ###\n",
    "- OOP allows programmers to create their own objects that have methods and attributes.\n",
    "- ex : recall that in strings and dictionaries we called .methods_name() syntax.\n",
    "- Methods act as functions that use information about the object,as well as the object itself to return results, or change the current object.\n",
    "- For example, this includes appending to a list, or counting the occurences of an element in a tuple.\n",
    "\n",
    "- OOP allows us to create code that is repeatable and organized.\n",
    " "
   ]
  },
  {
   "cell_type": "markdown",
   "metadata": {},
   "source": [
    "### Typical syntax of an object ###\n"
   ]
  },
  {
   "cell_type": "code",
   "execution_count": 1,
   "metadata": {},
   "outputs": [],
   "source": [
    "class NameofClass():                    # Camel casing\n",
    "    def __inti__(self,param1,param2):   # function inside a class is called method. self is the object itself\n",
    "        self.param1 = param1            # __init__ method creates an instance of an actual object\n",
    "        self.param2 = param2            \n",
    "\n",
    "    def some_method(self): #method\n",
    "        # Perform some action\n",
    "        print(self.param1)"
   ]
  },
  {
   "cell_type": "markdown",
   "metadata": {},
   "source": [
    "### Attributes and classe ###"
   ]
  },
  {
   "cell_type": "code",
   "execution_count": 2,
   "metadata": {},
   "outputs": [],
   "source": [
    "mylist = [1,2,3]  # Built in objects"
   ]
  },
  {
   "cell_type": "code",
   "execution_count": 3,
   "metadata": {},
   "outputs": [
    {
     "data": {
      "text/plain": [
       "list"
      ]
     },
     "execution_count": 3,
     "metadata": {},
     "output_type": "execute_result"
    }
   ],
   "source": [
    "type(mylist)"
   ]
  },
  {
   "cell_type": "code",
   "execution_count": 4,
   "metadata": {},
   "outputs": [],
   "source": [
    "# Class is a blue print that defines nature of a future object\n",
    "class SampleWord():\n",
    "    pass"
   ]
  },
  {
   "cell_type": "code",
   "execution_count": 6,
   "metadata": {},
   "outputs": [
    {
     "data": {
      "text/plain": [
       "__main__.SampleWord"
      ]
     },
     "execution_count": 6,
     "metadata": {},
     "output_type": "execute_result"
    }
   ],
   "source": [
    "my_sample = SampleWord()   # Creating an instance of a class\n",
    "type(my_sample)"
   ]
  },
  {
   "cell_type": "code",
   "execution_count": 7,
   "metadata": {},
   "outputs": [],
   "source": [
    "# Creating attributes\n",
    "class Dog():\n",
    "    \n",
    "    def __init__(self,breed):      # always executed when an instance is created\n",
    "                                   # Init is a constructor \n",
    "        self.breed = breed"
   ]
  },
  {
   "cell_type": "code",
   "execution_count": 9,
   "metadata": {},
   "outputs": [
    {
     "ename": "TypeError",
     "evalue": "__init__() missing 1 required positional argument: 'breed'",
     "output_type": "error",
     "traceback": [
      "\u001b[0;31m---------------------------------------------------------------------------\u001b[0m",
      "\u001b[0;31mTypeError\u001b[0m                                 Traceback (most recent call last)",
      "Cell \u001b[0;32mIn [9], line 1\u001b[0m\n\u001b[0;32m----> 1\u001b[0m my_dog \u001b[38;5;241m=\u001b[39m \u001b[43mDog\u001b[49m\u001b[43m(\u001b[49m\u001b[43m)\u001b[49m\n",
      "\u001b[0;31mTypeError\u001b[0m: __init__() missing 1 required positional argument: 'breed'"
     ]
    }
   ],
   "source": [
    "my_dog = Dog() # error if we dont pass anything because we are expecting a breed parameter"
   ]
  },
  {
   "cell_type": "code",
   "execution_count": 10,
   "metadata": {},
   "outputs": [
    {
     "data": {
      "text/plain": [
       "__main__.Dog"
      ]
     },
     "execution_count": 10,
     "metadata": {},
     "output_type": "execute_result"
    }
   ],
   "source": [
    "my_dog = Dog(breed = \"Lab\")\n",
    "type(my_dog)"
   ]
  },
  {
   "cell_type": "code",
   "execution_count": 11,
   "metadata": {},
   "outputs": [
    {
     "data": {
      "text/plain": [
       "'Lab'"
      ]
     },
     "execution_count": 11,
     "metadata": {},
     "output_type": "execute_result"
    }
   ],
   "source": [
    "my_dog.breed"
   ]
  },
  {
   "cell_type": "code",
   "execution_count": 14,
   "metadata": {},
   "outputs": [
    {
     "data": {
      "text/plain": [
       "'Husky'"
      ]
     },
     "execution_count": 14,
     "metadata": {},
     "output_type": "execute_result"
    }
   ],
   "source": [
    "# The above can be confusing because we see breed three time in the class, \n",
    "# a better explanation is as follows but it is not upto the convention\n",
    "\n",
    "class Dog():\n",
    "\n",
    "    # Attributes\n",
    "    # we take in argument\n",
    "    # Assign argument using self.attribute_name\n",
    "\n",
    "    def __init__(self,dog_breed):\n",
    "        self.breed  = dog_breed      # dog_breed is a parameter, we take a parameter and\n",
    "                                     # assign it to the breed attribute of an instance of the object\n",
    "\n",
    "\n",
    "# Creating an object\n",
    "\n",
    "my_dog  = Dog(dog_breed=\"Husky\")     # providing the dog_breed parameter\n",
    "my_dog.breed                         # Accesing breed attribute of instance of a class"
   ]
  },
  {
   "cell_type": "code",
   "execution_count": 3,
   "metadata": {},
   "outputs": [],
   "source": [
    "class Dog():\n",
    "    def __init__(self,breed,name,spots):\n",
    "        self.breed = breed\n",
    "        self.name = name\n",
    "        self.spots = spots"
   ]
  },
  {
   "cell_type": "code",
   "execution_count": 5,
   "metadata": {},
   "outputs": [
    {
     "name": "stdout",
     "output_type": "stream",
     "text": [
      "Lab\n",
      "Jimmy\n",
      "False\n"
     ]
    }
   ],
   "source": [
    "my_dog = Dog(breed=\"Lab\",name=\"Jimmy\",spots=False) # Providing parameters\n",
    "\n",
    "# Printing Attributes\n",
    "print(my_dog.breed)\n",
    "print(my_dog.name)\n",
    "print(my_dog.spots)"
   ]
  },
  {
   "cell_type": "code",
   "execution_count": 6,
   "metadata": {},
   "outputs": [],
   "source": [
    "# There may be some attributes that a class may have irrespective of its instance \n",
    "# such as a dog is always a mammal irrespective of its breed or any other parameter\n",
    "\n",
    "class Dog():\n",
    "    # class object attribute\n",
    "    # same for any instance of a class\n",
    "    species = \"mammal\"\n",
    "\n",
    "    \n",
    "    def __init__(self,breed,name,spots):\n",
    "        self.breed = breed\n",
    "        self.name = name\n",
    "        self.spots = spots"
   ]
  },
  {
   "cell_type": "code",
   "execution_count": 7,
   "metadata": {},
   "outputs": [
    {
     "data": {
      "text/plain": [
       "'mammal'"
      ]
     },
     "execution_count": 7,
     "metadata": {},
     "output_type": "execute_result"
    }
   ],
   "source": [
    "my_dog = my_dog = Dog(breed=\"Lab\",name=\"Jimmy\",spots=False)\n",
    "my_dog.species"
   ]
  },
  {
   "cell_type": "markdown",
   "metadata": {},
   "source": [
    "### Methods : ###\n",
    "- Functions that are defined in side a class that sometimes uses \n",
    "  actual attributes of the class to do certain operations."
   ]
  },
  {
   "cell_type": "code",
   "execution_count": 15,
   "metadata": {},
   "outputs": [],
   "source": [
    "class Dog():\n",
    "    # class object attribute\n",
    "    # same for any instance of a class\n",
    "    species = \"mammal\"\n",
    "\n",
    "    \n",
    "    def __init__(self,breed,name,spots):\n",
    "        self.breed = breed\n",
    "        self.name = name\n",
    "        self.spots = spots\n",
    "    \n",
    "    # Operations/ Actions ---> Method\n",
    "    def bark(self,number):   # self connecting to actual object , number provided by user\n",
    "        print(f\"{self.name} WOOF! and {number}\")\n"
   ]
  },
  {
   "cell_type": "code",
   "execution_count": 16,
   "metadata": {},
   "outputs": [
    {
     "name": "stdout",
     "output_type": "stream",
     "text": [
      "Jimmy WOOF! and 3\n"
     ]
    }
   ],
   "source": [
    "my_dog = my_dog = Dog(breed=\"Lab\",name=\"Jimmy\",spots=False)\n",
    "my_dog.bark(3)"
   ]
  },
  {
   "cell_type": "code",
   "execution_count": 28,
   "metadata": {},
   "outputs": [],
   "source": [
    "class Circle():\n",
    "    # Class object attribute\n",
    "    pi = 3.141\n",
    "\n",
    "    def __init__(self,radius = 1):   # Providind default\n",
    "        self.radius = radius\n",
    "        self.diameter = radius*2     # Attribute need not to be always from paramter\n",
    "    \n",
    "    def area(self):\n",
    "        return Circle.pi*(self.radius)**2\n",
    "\n",
    "    def perimeter(self):\n",
    "        return 2*Circle.pi*self.radius\n"
   ]
  },
  {
   "cell_type": "code",
   "execution_count": 29,
   "metadata": {},
   "outputs": [
    {
     "name": "stdout",
     "output_type": "stream",
     "text": [
      "314.1\n",
      "62.82\n",
      "20\n"
     ]
    }
   ],
   "source": [
    "my_circle = Circle(radius=10)\n",
    "print(my_circle.area())\n",
    "print(my_circle.perimeter())\n",
    "\n",
    "print(my_circle.diameter)"
   ]
  }
 ],
 "metadata": {
  "kernelspec": {
   "display_name": "Python 3.9.6 64-bit",
   "language": "python",
   "name": "python3"
  },
  "language_info": {
   "codemirror_mode": {
    "name": "ipython",
    "version": 3
   },
   "file_extension": ".py",
   "mimetype": "text/x-python",
   "name": "python",
   "nbconvert_exporter": "python",
   "pygments_lexer": "ipython3",
   "version": "3.9.6"
  },
  "orig_nbformat": 4,
  "vscode": {
   "interpreter": {
    "hash": "31f2aee4e71d21fbe5cf8b01ff0e069b9275f58929596ceb00d14d90e3e16cd6"
   }
  }
 },
 "nbformat": 4,
 "nbformat_minor": 2
}
