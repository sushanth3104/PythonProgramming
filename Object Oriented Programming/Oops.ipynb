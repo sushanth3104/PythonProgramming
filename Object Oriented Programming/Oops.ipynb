{
 "cells": [
  {
   "cell_type": "markdown",
   "metadata": {},
   "source": [
    "### Need of OOP's ###\n",
    "- Assuming we are storing the data about a software engineer,\n",
    "- It has multiple fields such as name , salary ect.\n",
    "- If we choose list , it will be as follows"
   ]
  },
  {
   "cell_type": "code",
   "execution_count": 1,
   "metadata": {},
   "outputs": [],
   "source": [
    "se1 = [\"SoftwareEngineer\",\"Sushanth\",20,\"junior\",5000]      \n",
    "se2 = [\"SoftwareEngineer\",\"ujwal\",20,\"senior\",7000] "
   ]
  },
  {
   "cell_type": "markdown",
   "metadata": {},
   "source": [
    " Clearly we can see that this is not the best data structure possible.\n",
    " It is error prone.\n",
    "\n",
    " To overcome this problem classes are used, classes are used.\n",
    " More complex data sctructes canbe obtained using classes.\n",
    " They also include functions within them , which enables to use function\n",
    " directly on object(Instance of the class).\n",
    "\n",
    " A Class is a \"\"\"blue print\"\"\" of how our data structure should look like"
   ]
  }
 ],
 "metadata": {
  "kernelspec": {
   "display_name": "Python 3.9.6 64-bit",
   "language": "python",
   "name": "python3"
  },
  "language_info": {
   "codemirror_mode": {
    "name": "ipython",
    "version": 3
   },
   "file_extension": ".py",
   "mimetype": "text/x-python",
   "name": "python",
   "nbconvert_exporter": "python",
   "pygments_lexer": "ipython3",
   "version": "3.9.6"
  },
  "orig_nbformat": 4,
  "vscode": {
   "interpreter": {
    "hash": "31f2aee4e71d21fbe5cf8b01ff0e069b9275f58929596ceb00d14d90e3e16cd6"
   }
  }
 },
 "nbformat": 4,
 "nbformat_minor": 2
}
